{
 "cells": [
  {
   "cell_type": "markdown",
   "metadata": {},
   "source": [
    "# 파이썬3 정규표현식\n",
    "\n",
    "[이효석 메밀꽃 필 무렵](https://ko.wikisource.org/wiki/%EB%A9%94%EB%B0%80%EA%BD%83_%ED%95%84_%EB%AC%B4%EB%A0%B5) 소설을 [위키문헌](https://ko.wikisource.org/)에서 가져와서 파이썬3 정규표현식을 위한 기초 데이터로 삼는다."
   ]
  },
  {
   "cell_type": "markdown",
   "metadata": {},
   "source": [
    "## 데이터 크롤링\n",
    "\n",
    "[이효석 메밀꽃 필 무렵](https://ko.wikisource.org/wiki/%EB%A9%94%EB%B0%80%EA%BD%83_%ED%95%84_%EB%AC%B4%EB%A0%B5) 웹사이트에서 메밀꽃 필 무렵 소설을 복사하여 붙여넣고 파일에 저장해서 불러와도 좋은 방법이나, `requests` 라이브러리를 통해 웹페이지를 불러오고 `bs4` 라이브러리를 사용해서 원하는 텍스트만 추출해 둔다. 위키문헌 크롤링에는 \"hans mj\"님이 작성한 `get_html()` 함수를 사용한다.\n",
    "\n",
    "- [hans mj, \"파이썬으로 크롤링 하기\"](https://medium.com/@mjhans83/%ED%8C%8C%EC%9D%B4%EC%8D%AC%EC%9C%BC%EB%A1%9C-%ED%81%AC%EB%A1%A4%EB%A7%81-%ED%95%98%EA%B8%B0-908e78ee09e0)"
   ]
  },
  {
   "cell_type": "code",
   "execution_count": 31,
   "metadata": {
    "collapsed": false,
    "scrolled": false
   },
   "outputs": [
    {
     "name": "stdout",
     "output_type": "stream",
     "text": [
      "<!DOCTYPE html>\n",
      "<html class=\"client-nojs\" lang=\"ko\" dir=\"ltr\">\n",
      "<head>\n",
      "<meta charset=\"UTF-8\"/>\n",
      "<title\n"
     ]
    }
   ],
   "source": [
    "# 웹사이트 가져오기\n",
    "import requests\n",
    "\n",
    "def get_html(url):\n",
    "   _html = \"\"\n",
    "   resp = requests.get(url)\n",
    "   if resp.status_code == 200:\n",
    "      _html = resp.text\n",
    "   return _html\n",
    "\n",
    "URL = \"https://ko.wikisource.org/wiki/%EB%A9%94%EB%B0%80%EA%BD%83_%ED%95%84_%EB%AC%B4%EB%A0%B5\"\n",
    "html = get_html(URL)\n",
    "\n",
    "print(html[:100])"
   ]
  },
  {
   "cell_type": "markdown",
   "metadata": {},
   "source": [
    "`requests` 라이브러리를 통해서 정적 웹페이지를 가져왔으면 다음 단계로 필요한 소설만 추려서 텍스트를 정제한 한다."
   ]
  },
  {
   "cell_type": "code",
   "execution_count": 52,
   "metadata": {
    "collapsed": false,
    "scrolled": true
   },
   "outputs": [
    {
     "name": "stdout",
     "output_type": "stream",
     "text": [
      "여름장이란 애시당초에 글러서, 해는 아직 중천에 있건만 장판은 벌써 쓸쓸하고 더운 햇발이 벌여놓은 전 휘장 밑으로 등줄기를 훅훅 볶는다. 마을 사람들은 거지 반 돌아간 뒤요, 팔리 ********************** 6]같이 눈이 어둡던 허 생원도 요번만은 동이의 왼손잡이가 눈에 띄지 않을 수 없었다. 걸음도 해깝고[27] 방울소리가 밤 벌판에 한층 청청하게 울렸다. 달이 어지간히 기울어졌다.\n"
     ]
    }
   ],
   "source": [
    "from bs4 import BeautifulSoup\n",
    "\n",
    "soup = BeautifulSoup(html, 'html.parser')\n",
    "\n",
    "## 소설 부분만 추려냄: 개행문자로 쪼갬\n",
    "novel_raw = soup.select('#mw-content-text > div.mw-parser-output')[0].text.splitlines()\n",
    "\n",
    "## 개행(newline) 문자 \"\"을 없앰\n",
    "novel_txt = [x for x in novel_raw if x]\n",
    "\n",
    "## 소설을 문자열 하나로 만듦\n",
    "novel_full_txt = ' '.join(novel_txt)\n",
    "\n",
    "## 앞쪽 불필요한 부분 삭제\n",
    "novel_clean_txt = novel_full_txt[69:]\n",
    "## 뒤쪽 불필요한 부분 삭제\n",
    "novel_clean_txt = novel_clean_txt[:len(novel_clean_txt)-794]\n",
    "\n",
    "print(novel_clean_txt[:100]+ ' ********************** ' + novel_clean_txt[-100:])"
   ]
  },
  {
   "cell_type": "markdown",
   "metadata": {},
   "source": [
    "# 문자열 출력형식\n",
    "\n",
    "파이썬에서 문자열 출력형식을 제어하는 방식은 크게 세가지 방식이 있다.\n",
    "\n",
    "- `str.format()`\n",
    "- `f-문자열`\n",
    "- `Template` 문자열\n",
    "\n",
    "세가지 방식 모두 장단점이 있으나 `f-문자열` 방식이 추천되지만 파이썬 3.6이상에서 동작된다는 한계도 있음으로 주의해서 사용한다."
   ]
  },
  {
   "cell_type": "markdown",
   "metadata": {},
   "source": [
    "## `f-문자열`\n",
    "\n",
    "`f-문자열`을 적용시키려면 문자열 앞에 `f`를 다음과 같이 붙이고 `{표현식)}` 내부에 **표현식(expression)**을 넣을 수 있는 장점이 있다."
   ]
  },
  {
   "cell_type": "code",
   "execution_count": 55,
   "metadata": {
    "collapsed": false
   },
   "outputs": [
    {
     "name": "stdout",
     "output_type": "stream",
     "text": [
      "메밀꽃 필 무렵은 이효석이 1936년 발표한 소설이다.\n"
     ]
    }
   ],
   "source": [
    "genre = \"소설\"\n",
    "writer = \"이효석\"\n",
    "print(f\"메밀꽃 필 무렵은 {writer}이 1936년 발표한 {genre}이다.\")"
   ]
  },
  {
   "cell_type": "markdown",
   "metadata": {},
   "source": [
    "`!r`을 사용하게 되면 출력시에 인용부호를 붙여준다."
   ]
  },
  {
   "cell_type": "code",
   "execution_count": 58,
   "metadata": {
    "collapsed": false,
    "scrolled": true
   },
   "outputs": [
    {
     "name": "stdout",
     "output_type": "stream",
     "text": [
      "메밀꽃 필 무렵은 '이효석'이 1936년 발표한 '소설'이다.\n"
     ]
    }
   ],
   "source": [
    "print(f\"메밀꽃 필 무렵은 {writer!r}이 1936년 발표한 {genre!r}이다.\")"
   ]
  },
  {
   "cell_type": "markdown",
   "metadata": {},
   "source": [
    "## `f-문자열`: BMI\n",
    "비만도 계산을 BMI(Body Mass Index)를 많이 사용하는데 공식은 다음과 같다.\n",
    "\n",
    "$BMI= \\frac{체중}{신장^2}$\n",
    "\n",
    "여기서 체중은 Kg, 신장은 미터로 넣어줘야 한다. 이를 `f-문자열`을 통해서 계산하는 것도 가능하다.\n",
    "아르헨티나 '축구 천재' 2014년 기준 리오넬 메시의 키 169㎝, 몸무게 67㎏를 바탕으로 비만도를 계산해 보자."
   ]
  },
  {
   "cell_type": "code",
   "execution_count": 63,
   "metadata": {
    "collapsed": false
   },
   "outputs": [
    {
     "name": "stdout",
     "output_type": "stream",
     "text": [
      "리오넬 메시 신장 1.69m, 체중 67, 비만도(BMI) = 23.5\n"
     ]
    }
   ],
   "source": [
    "height = 1.69\n",
    "weight = 67\n",
    "print(f\"리오넬 메시 신장 {height:.2f}m, 체중 {weight:d}, 비만도(BMI) = {weight/height**2:.1f}\")"
   ]
  },
  {
   "cell_type": "markdown",
   "metadata": {},
   "source": [
    "## `f-문자열`: 검색(lookup)\n",
    "\n",
    "데이터를 딕셔너리로 정리한 경우 좀더 가독성을 높일 수 있게 `f-문자열`을 사용하는 것도 가독성을 높이면서 텍스트를 자유로이 표현하는데 도움이 된다."
   ]
  },
  {
   "cell_type": "code",
   "execution_count": 68,
   "metadata": {
    "collapsed": false
   },
   "outputs": [
    {
     "name": "stdout",
     "output_type": "stream",
     "text": [
      "'메밀꽃 필 무렵'은 이효석이 1936년 발표한 소설이다.\n"
     ]
    }
   ],
   "source": [
    "novel_info = {\n",
    "    \"name\": \"이효석\",\n",
    "    \"title\": \"메밀꽃 필 무렵\",\n",
    "    \"year\": 1936,\n",
    "    \"genre\": \"소설\"\n",
    "}\n",
    "\n",
    "print(f\"{novel_info['title']!r}은 {novel_info['name']}이 {novel_info['year']}년 발표한 {novel_info['genre']}이다.\")"
   ]
  },
  {
   "cell_type": "markdown",
   "metadata": {},
   "source": [
    "# 정규표현식\n",
    "\n",
    "**정규표현식**은 텍스트 내부에 텍스트 혹은 위치를 패턴을 기술하여 찾아내는 일종의 언어로 일반문자와 특수 메타문자(meta character)를 조합해서 사용한다.\n",
    "\n",
    "## `re` 라이브러리\n",
    "\n",
    "`re` 라이브러리는 파이썬에서 정규표현식을 구현하는 핵심 라이브러리다. 다음 메쏘드가 정규표현식과 함께 많이 사용된다.\n",
    "\n",
    "- `re.findall()`: 정규표현식과 매칭되는 텍스트를 모두 찾아냄\n",
    "- `re.split()`: 정규표현식과 매칭되는 텍스트를 쪼갬\n",
    "- `re.sub()`: 정규표현식과 매칭되는 문자열을 명세된 다른 문자열로 대체시킴\n",
    "- `re.search()`: 문자열에 위치에 상관없이 정규표현식과 매칭되는 문자열을 찾아 반환시킴\n",
    "- `re.match()`: 문자열에 시작위치에서 정규표현식과 매칭되는 문자열을 찾아 반환시킴"
   ]
  },
  {
   "cell_type": "code",
   "execution_count": 72,
   "metadata": {
    "collapsed": false
   },
   "outputs": [
    {
     "data": {
      "text/plain": [
       "['봉평', '봉평', '봉평', '봉평', '봉평', '봉평', '봉평', '봉평', '봉평']"
      ]
     },
     "execution_count": 72,
     "metadata": {},
     "output_type": "execute_result"
    }
   ],
   "source": [
    "import re\n",
    "\n",
    "re.findall(r\"봉평\", novel_clean_txt) # 봉평이 들어간 단어를 추출"
   ]
  },
  {
   "cell_type": "code",
   "execution_count": 74,
   "metadata": {
    "collapsed": false,
    "scrolled": false
   },
   "outputs": [
    {
     "data": {
      "text/plain": [
       "['여름장이란 애시당초에 글러서, 해는 아직 중천에 있건만 장판은 벌써 쓸쓸하고 더운 햇발이 벌여놓은 전 휘장 밑으로 등줄기를 훅훅 볶는다',\n",
       " ' 마을 사람들은 거지 반 돌아간 뒤요, 팔리지 못한 나무꾼 패가 길거리에 궁싯거리고들 있으나 석유병이나 받고 고깃마리나 사면 족할 이 축들을 바라고 언제까지든지 버티고 있을 법은 없다',\n",
       " ' 춥춥스럽게 날아드는 파리 떼도 장난꾼 각다귀[1]들도 귀치않다',\n",
       " '[2] 얽둑배기요 왼손잡이인 드팀전의 허 생원은 기어코 동업의 조 선달에게 나꾸어 보았다',\n",
       " '[3] “그만 거둘까?” “잘 생각했네',\n",
       " ' 봉평[4] 장에서 한번이나 흐붓하게[5] 사본 일 있을까',\n",
       " ' 내일 대화 장에서가 한몫 벌어야겠네',\n",
       " '” “오늘 밤은 밤을 새서 걸어야 될걸?” “달이 뜨렷다?” 절렁절렁 소리를 내며 조 선달이 그날 번 돈을 따지는 것을 보고 허 생원은 말뚝에서 넓은 휘장을 걷고 벌여놓았던 물건을 거두기 시작하였다',\n",
       " ' 무명 필과 주단 바리가 두 고리짝에 꼭 찼다',\n",
       " ' 멍석 위에는 천 조각이 어수선하게 남았']"
      ]
     },
     "execution_count": 74,
     "metadata": {},
     "output_type": "execute_result"
    }
   ],
   "source": [
    "re.split(r\"\\.\", novel_clean_txt[:500]) # 마침표를 기준으로 문장을 쪼갬"
   ]
  },
  {
   "cell_type": "code",
   "execution_count": 76,
   "metadata": {
    "collapsed": false
   },
   "outputs": [
    {
     "data": {
      "text/plain": [
       "'겨울장이란 애시당초에 글러서, 해는 아직 중천에 있건만 장판은 벌써 쓸쓸하고 더운 햇발이 벌여놓은 전 휘장 밑으로 등줄기를 훅훅 볶는다. 마을 사람들은 거지 반 돌아간 뒤요, 팔리지 못한 나무꾼 패가 길거리에 궁싯거리고들 있으나 석유병이나 받고 고깃마리나 사면 족할 이 축들을 바라고 언제까지든지 버티고 있을 법은 없다. 춥춥스럽게 날아드는 파리 떼도 장난꾼 각다귀[1]들도 귀치않다.[2] 얽둑배기요 왼손잡이인 드팀전의 허 생원은 기어코 동업의 조 선달에게 나꾸어 보았다.[3] “그만 거둘까?” “잘 생각했네. 봉평[4] 장에서 한번이나 흐붓하게[5] 사본 일 있을까. 내일 대화 장에서가 한몫 벌어야겠네.” “오늘 밤은 밤을 새서 걸어야 될걸?” “달이 뜨렷다?” 절렁절렁 소리를 내며 조 선달이 그날 번 돈을 따지는 것을 보고 허 생원은 말뚝에서 넓은 휘장을 걷고 벌여놓았던 물건을 거두기 시작하였다. 무명 필과 주단 바리가 두 고리짝에 꼭 찼다. 멍석 위에는 천 조각이 어수선하게 남았'"
      ]
     },
     "execution_count": 76,
     "metadata": {},
     "output_type": "execute_result"
    }
   ],
   "source": [
    "re.sub(r\"여름\", \"겨울\", novel_clean_txt[:500]) # 여름을 겨울로 바꿈"
   ]
  },
  {
   "cell_type": "markdown",
   "metadata": {},
   "source": [
    "## 메타문자\n",
    "\n",
    "메타문자(metacharacter)로 정규표현식에 특수한 의미를 갖는 문자가 있다.\n",
    "\n",
    "- 숫자 패턴 \n",
    "    - \\d: 숫자(digit)\n",
    "    - \\D: 숫자가 아닌 문자(non-digit)\n",
    "- 단어 패턴\n",
    "    - \\w: 단어(word)\n",
    "    - \\W: 단어 아닌 문자(non-word)\n",
    "- 화이트스페이스(whitespace): 공백, 탭 등\n",
    "    - \\s: 화이트스페이스(whitespace)\n",
    "    - \\S: 화이트스페이스 아닌 문자(non-whitespace)"
   ]
  },
  {
   "cell_type": "markdown",
   "metadata": {},
   "source": [
    "### 숫자 패턴\n",
    "\n",
    "LPGA에서 한국 여자 선수가 너무나 많이 우승을 하여 얼마전 작은 소동이 있었다. [미국 LPGA 가는 이정은6 \"식스라고 불러주세요\"](https://news.joins.com/article/23259205) 기사에도 언급되었듯이 이정은 이름을 갖고 LPGA에 출전한 여자선수가 많다.\n",
    "이런 경우 `이정은\\d` 패턴을 사용해서 이정은 이름 뒤에 숫자가 붙는 선수를 추려낼 수 있고, `이정은\\D`를 사용해서는 숫자가 붙지 않은 선수사례도 찾아낼 수 있다."
   ]
  },
  {
   "cell_type": "code",
   "execution_count": 84,
   "metadata": {
    "collapsed": false
   },
   "outputs": [
    {
     "data": {
      "text/plain": [
       "['이정은1', '이정은2', '이정은3', '이정은4', '이정은5', '이정은6']"
      ]
     },
     "execution_count": 84,
     "metadata": {},
     "output_type": "execute_result"
    }
   ],
   "source": [
    "re.findall(r\"이정은\\d\", \"LPGA 여자 골프 대회에서 이정은: 이정은, 이정은1, 이정은2, 이정은3, 이정은4, 이정은5, 이정은6\")"
   ]
  },
  {
   "cell_type": "code",
   "execution_count": 85,
   "metadata": {
    "collapsed": false,
    "scrolled": true
   },
   "outputs": [
    {
     "data": {
      "text/plain": [
       "['이정은:', '이정은,']"
      ]
     },
     "execution_count": 85,
     "metadata": {},
     "output_type": "execute_result"
    }
   ],
   "source": [
    "re.findall(r\"이정은\\D\", \"LPGA 여자 골프 대회에서 이정은: 이정은, 이정은1, 이정은2, 이정은3, 이정은4, 이정은5, 이정은6\")"
   ]
  },
  {
   "cell_type": "markdown",
   "metadata": {},
   "source": [
    "### 단어 패턴\n",
    "\n",
    "경제기사는 \"원·달러 환율은 9일 1179원80전까지 상승하며 연중 최고점을 찍었다. 4월 이후 상승률은 4.06%\"와 같이 숫자와 문자가 수학 소수점(`.`)과 퍼센티지(`%`) 부호가 섞여있다. 이런 경우 앞서 살펴본 숫자 패턴 메타문자와 단어패턴 메타문자를 함께 사용하면 경제관련 텍스트만 추출하는데 도움이 된다."
   ]
  },
  {
   "cell_type": "code",
   "execution_count": 91,
   "metadata": {
    "collapsed": false,
    "scrolled": true
   },
   "outputs": [
    {
     "data": {
      "text/plain": [
       "['9일', '1179원', '80전', '4월', '06']"
      ]
     },
     "execution_count": 91,
     "metadata": {},
     "output_type": "execute_result"
    }
   ],
   "source": [
    "re.findall(r\"\\d+\\w\", \"원·달러 환율은 9일 1179원80전까지 상승하며 연중 최고점을 찍었다. 4월 이후 상승률은 4.06%\")"
   ]
  },
  {
   "cell_type": "code",
   "execution_count": 89,
   "metadata": {
    "collapsed": false,
    "scrolled": true
   },
   "outputs": [
    {
     "data": {
      "text/plain": [
       "['4.', '6%']"
      ]
     },
     "execution_count": 89,
     "metadata": {},
     "output_type": "execute_result"
    }
   ],
   "source": [
    "re.findall(r\"\\d\\W\", \"원·달러 환율은 9일 1179원80전까지 상승하며 연중 최고점을 찍었다. 4월 이후 상승률은 4.06%\")"
   ]
  },
  {
   "cell_type": "markdown",
   "metadata": {},
   "source": [
    "### 화이트스페이스 패턴\n",
    "\n",
    "화이트스페이스는 공백, 탭등 사람 눈에는 보이지 않으나 기계는 달리 인식하는 문자를 의미하는데 \"원·달러 환율\" 같이 화이트스페이스가 아닌 문자와 공백이 뒤섞여 있는 경우 정규표현식을 \"원\\S달러\\s환율\" 같이 작성하여 해당 텍스트를 정확힌 추출해 낼 수 있다."
   ]
  },
  {
   "cell_type": "code",
   "execution_count": 96,
   "metadata": {
    "collapsed": false
   },
   "outputs": [
    {
     "data": {
      "text/plain": [
       "['원·달러 환율']"
      ]
     },
     "execution_count": 96,
     "metadata": {},
     "output_type": "execute_result"
    }
   ],
   "source": [
    "re.findall(r\"원\\S달러\\s환율\", \"원·달러 환율은 지난해 7월 이후 9개월 동안 1115~1135원 선의 박스권을 지키며 옆걸음치던 모습과 180도 달라졌다.\")"
   ]
  },
  {
   "cell_type": "code",
   "execution_count": 95,
   "metadata": {
    "collapsed": false,
    "scrolled": true
   },
   "outputs": [
    {
     "data": {
      "text/plain": [
       "['1115~1135', '180']"
      ]
     },
     "execution_count": 95,
     "metadata": {},
     "output_type": "execute_result"
    }
   ],
   "source": [
    "re.findall(r\"\\d+\\S\\d+\", \"원·달러 환율은 지난해 7월 이후 9개월 동안 1115~1135원 선의 박스권을 지키며 옆걸음치던 모습과 180도 달라졌다.\")"
   ]
  },
  {
   "cell_type": "markdown",
   "metadata": {},
   "source": [
    "## 반복\n",
    "\n",
    "`\\d`는 숫자 하나를 나타낸다. 전화번호와 같이 숫자가 여러번 반복되는 경우 `\\d\\d\\d-\\d\\d\\d\\d-\\d\\d\\d\\d`와 같이 표현하게 되면 중복이 심하게 되고 일일이 사람이 읽게 되어 코드에 버그가 들어갈 소지도 생겨나게 된다. 전화번호 패턴에 대해서는 [나무위키, \"전화번호\"](https://namu.wiki/w/%EC%A0%84%ED%99%94%EB%B2%88%ED%98%B8)를 참조한다.\n",
    "\n",
    "- ABCD-EFGH 형태\n",
    "- 010-ABCD-EFGH 형태\n",
    "- 01A-BCD-EFGH 형태\n",
    "- 0AB-CDE(F)-GHIJ\n",
    "- 00A-B(CD)-EFGH\n",
    "- 0A0-BCDE-FGHI"
   ]
  },
  {
   "cell_type": "code",
   "execution_count": 103,
   "metadata": {
    "collapsed": false,
    "scrolled": true
   },
   "outputs": [
    {
     "name": "stdout",
     "output_type": "stream",
     "text": [
      "['1588-1234']\n",
      "[]\n",
      "['1577-5698']\n",
      "['1899-2536']\n",
      "[]\n"
     ]
    }
   ],
   "source": [
    "phone_numbers = [\"1588-1234\", \"ABCD-5252\", \"1577-5698\", \"1899-2536\", \"1234-ABCD\"]\n",
    "\n",
    "for phone in phone_numbers:\n",
    "    result = re.findall(r\"\\d{4}-\\d{4}\", phone)\n",
    "    print(result)"
   ]
  },
  {
   "cell_type": "markdown",
   "metadata": {},
   "source": [
    "반복을 나타내는 수량자(quantifier)는 다음과 같다.\n",
    "\n",
    "- `+`: 0 혹은 그 이상\n",
    "- `*`: 1 혹은 그 이상\n",
    "- `?`: 0 혹은 1\n",
    "- {n, m}: 최소 n번, 최대 m번 사이"
   ]
  },
  {
   "cell_type": "code",
   "execution_count": 106,
   "metadata": {
    "collapsed": false
   },
   "outputs": [
    {
     "name": "stdout",
     "output_type": "stream",
     "text": [
      "['1588-1234']\n",
      "[]\n",
      "['1577-5698']\n",
      "['1899-2536']\n",
      "[]\n"
     ]
    }
   ],
   "source": [
    "for phone in phone_numbers:\n",
    "    result = re.findall(r\"\\d+-\\d+\", phone)\n",
    "    print(result)"
   ]
  }
 ],
 "metadata": {
  "kernelspec": {
   "display_name": "Python 3",
   "language": "python",
   "name": "python3"
  },
  "language_info": {
   "codemirror_mode": {
    "name": "ipython",
    "version": 3
   },
   "file_extension": ".py",
   "mimetype": "text/x-python",
   "name": "python",
   "nbconvert_exporter": "python",
   "pygments_lexer": "ipython3",
   "version": "3.6.0"
  },
  "toc": {
   "base_numbering": 1,
   "nav_menu": {},
   "number_sections": true,
   "sideBar": true,
   "skip_h1_title": false,
   "title_cell": "Table of Contents",
   "title_sidebar": "Contents",
   "toc_cell": false,
   "toc_position": {},
   "toc_section_display": true,
   "toc_window_display": false
  }
 },
 "nbformat": 4,
 "nbformat_minor": 2
}

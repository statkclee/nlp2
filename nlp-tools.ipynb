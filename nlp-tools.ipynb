{
 "cells": [
  {
   "cell_type": "markdown",
   "metadata": {},
   "source": [
    "# 파이썬 자연어 처리 라이브러리\n",
    "\n",
    "영어 자연어처리를 위해서 다양한 파이썬 라이브러리가 존재한다. 대표적으로 많이 사용되는 자연어 처리 파이썬 라이브러리는 다음과 같다.\n",
    "\n",
    "- Spacy: https://spacy.io/, MIT License\n",
    "- NLTK: https://www.nltk.org/, Apache 2.0\n",
    "- CoreNLP: https://stanfordnlp.github.io/CoreNLP/index.html, GPL v3"
   ]
  },
  {
   "cell_type": "markdown",
   "metadata": {},
   "source": [
    "#  Spacy, NLTK, CoreNLP 기능 비교\n",
    "\n",
    "영문 자연어 처리에서 많이 사용되는 Spacy, NLTK, Core NLP의 경우 라이선스에서 차이도 나지만 기능에서도 차이가 있다. \n",
    "\n",
    "[Analytics Vidhya, \"Natural Language Processing Made Easy – using SpaCy (in Python)\"](https://www.analyticsvidhya.com/blog/2017/04/natural-language-processing-made-easy-using-spacy-%E2%80%8Bin-python/)"
   ]
  },
  {
   "cell_type": "markdown",
   "metadata": {},
   "source": [
    "| Feature |\tSpacy |\tNLTK |\tCore NLP |\n",
    "|---------|:--------:|:---------:|:---------:|:---------:|\n",
    "| Easy installation |\tY |\tY |\tY |\n",
    "| Python API |\tY |\tY |\tN |\n",
    "| Multi Language support |\tN |\tY |Y |\n",
    "| Tokenization |\tY |\tY |\tY | |\n",
    "| Part-of-speech tagging | Y | Y | Y |\n",
    "| Sentence segmentation |\tY |\tY |\tY |\n",
    "| Dependency parsing |\tY |\tN |\tY |\n",
    "| Entity Recognition |\tY |\tY |\tY |\n",
    "| Integrated word vectors |\tY |\tN | N |\n",
    "| Sentiment analysis |\tY |\tY |\tY |\n",
    "| Coreference resolution |\tN |\tN |\tY |"
   ]
  }
 ],
 "metadata": {
  "kernelspec": {
   "display_name": "Python 3",
   "language": "python",
   "name": "python3"
  },
  "language_info": {
   "codemirror_mode": {
    "name": "ipython",
    "version": 3
   },
   "file_extension": ".py",
   "mimetype": "text/x-python",
   "name": "python",
   "nbconvert_exporter": "python",
   "pygments_lexer": "ipython3",
   "version": "3.6.5"
  },
  "toc": {
   "base_numbering": 1,
   "nav_menu": {},
   "number_sections": true,
   "sideBar": true,
   "skip_h1_title": false,
   "title_cell": "Table of Contents",
   "title_sidebar": "Contents",
   "toc_cell": false,
   "toc_position": {},
   "toc_section_display": true,
   "toc_window_display": false
  }
 },
 "nbformat": 4,
 "nbformat_minor": 2
}

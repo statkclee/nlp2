{
 "cells": [
  {
   "cell_type": "markdown",
   "metadata": {},
   "source": [
    "# 기계학습(ML) &rarr; 딥러닝(DL)\n",
    "\n",
    "전통적인 통계기반의 예측모형을 사용하는 것이 아니라 최근에 개발된 딥러닝을 적용시켜 뉴스그룹(뉴스기사) 분류작업을 수행해보자.\n",
    "\n",
    "- 나이브 베이즈: MultinomialNB\n",
    "- 로지스틱 회귀모형: LogisticRegression\n",
    "- 선형 SVM: SVC\n",
    "- SGDClassifier\n",
    "- Random Forest: RandomForestClassifier\n",
    "- Gradient Boosted Machines: GradientBoostingClassifier\n",
    "\n",
    "전통적인 통계기반 예측모형 대신에 딥러닝에 포함되는 모형은 여러가지가 있지만 아무래도 **워드2벡(word2vec)** 을 가장 먼저 꼽고 있다."
   ]
  },
  {
   "cell_type": "markdown",
   "metadata": {},
   "source": [
    "# 데이터 준비"
   ]
  },
  {
   "cell_type": "code",
   "execution_count": 15,
   "metadata": {},
   "outputs": [],
   "source": [
    "# -*- coding: utf-8 -*-\n",
    "\n",
    "## 환경설정\n",
    "import warnings\n",
    "warnings.filterwarnings('ignore')\n",
    "\n",
    "import pandas as pd\n",
    "import numpy as np\n",
    "import nltk\n",
    "\n",
    "# 저자 제작 사용자정의 함수 가져오기\n",
    "import sys\n",
    "sys.path.insert(0, './code')\n",
    "import text_normalizer as tn"
   ]
  },
  {
   "cell_type": "code",
   "execution_count": 16,
   "metadata": {},
   "outputs": [],
   "source": [
    "data_df = pd.read_csv('data/clean_newsgroups.csv')"
   ]
  },
  {
   "cell_type": "code",
   "execution_count": 17,
   "metadata": {},
   "outputs": [
    {
     "data": {
      "text/plain": [
       "((12261,), (6039,))"
      ]
     },
     "execution_count": 17,
     "metadata": {},
     "output_type": "execute_result"
    }
   ],
   "source": [
    "from sklearn.model_selection import train_test_split\n",
    "\n",
    "train_corpus, test_corpus, train_label_nums, test_label_nums, train_label_names, test_label_names =\\\n",
    "                                 train_test_split(np.array(data_df['Clean Article']), np.array(data_df['Target Label']),\n",
    "                                                       np.array(data_df['Target Name']), test_size=0.33, random_state=42)\n",
    "\n",
    "train_corpus.shape, test_corpus.shape\n"
   ]
  },
  {
   "cell_type": "code",
   "execution_count": 18,
   "metadata": {},
   "outputs": [],
   "source": [
    "tokenized_train = [tn.tokenizer.tokenize(text)\n",
    "                   for text in train_corpus]\n",
    "tokenized_test = [tn.tokenizer.tokenize(text)\n",
    "                   for text in test_corpus]"
   ]
  },
  {
   "cell_type": "markdown",
   "metadata": {},
   "source": [
    "# 예측모형 - 워드2벡\n",
    "\n",
    "워드2벡(word2vec)이 포함된 라이브러리로 `gensim`이 선택되었다. 다음 명령어를 사용해서 `gensim` 라이브러리를 설치한다.\n",
    "\n",
    "> `$ pip install -U gensim` "
   ]
  },
  {
   "cell_type": "code",
   "execution_count": 19,
   "metadata": {
    "scrolled": true
   },
   "outputs": [],
   "source": [
    "import gensim\n",
    "# build word2vec model\n",
    "w2v_num_features = 100\n",
    "w2v_model = gensim.models.Word2Vec(tokenized_train, size=w2v_num_features, window=100,\n",
    "                                   min_count=2, sample=1e-3, sg=1, iter=5, workers=10)"
   ]
  },
  {
   "cell_type": "code",
   "execution_count": 20,
   "metadata": {},
   "outputs": [],
   "source": [
    "def document_vectorizer(corpus, model, num_features):\n",
    "    vocabulary = set(model.wv.index2word)\n",
    "    \n",
    "    def average_word_vectors(words, model, vocabulary, num_features):\n",
    "        feature_vector = np.zeros((num_features,), dtype=\"float64\")\n",
    "        nwords = 0.\n",
    "        \n",
    "        for word in words:\n",
    "            if word in vocabulary: \n",
    "                nwords = nwords + 1.\n",
    "                feature_vector = np.add(feature_vector, model.wv[word])\n",
    "        if nwords:\n",
    "            feature_vector = np.divide(feature_vector, nwords)\n",
    "\n",
    "        return feature_vector\n",
    "\n",
    "    features = [average_word_vectors(tokenized_sentence, model, vocabulary, num_features)\n",
    "                    for tokenized_sentence in corpus]\n",
    "    return np.array(features)"
   ]
  },
  {
   "cell_type": "code",
   "execution_count": 21,
   "metadata": {},
   "outputs": [],
   "source": [
    "# generate averaged word vector features from word2vec model\n",
    "avg_wv_train_features = document_vectorizer(corpus=tokenized_train, model=w2v_model,\n",
    "                                                     num_features=w2v_num_features)\n",
    "avg_wv_test_features = document_vectorizer(corpus=tokenized_test, model=w2v_model,\n",
    "                                                    num_features=w2v_num_features)"
   ]
  },
  {
   "cell_type": "code",
   "execution_count": 27,
   "metadata": {
    "scrolled": true
   },
   "outputs": [
    {
     "name": "stdout",
     "output_type": "stream",
     "text": [
      "Word2Vec model:> Train features shape: \t (12261, 100)\n",
      "                          Test features shape: \t (6039, 100)\n"
     ]
    }
   ],
   "source": [
    "print(f'Word2Vec model:> Train features shape: \\t {avg_wv_train_features.shape}\\n \\\n",
    "                         Test features shape: \\t {avg_wv_test_features.shape}')"
   ]
  },
  {
   "cell_type": "markdown",
   "metadata": {},
   "source": [
    "## 예측모형 성능"
   ]
  },
  {
   "cell_type": "code",
   "execution_count": 28,
   "metadata": {},
   "outputs": [
    {
     "name": "stdout",
     "output_type": "stream",
     "text": [
      "CV Accuracy (5-fold): [0.7094677  0.70980871 0.72705018 0.70465686 0.71767594]\n",
      "Mean CV Accuracy: 0.7137318786582096\n",
      "Test Accuracy: 0.6910084451068058\n"
     ]
    }
   ],
   "source": [
    "from sklearn.model_selection import cross_val_score\n",
    "from sklearn.linear_model import SGDClassifier\n",
    "\n",
    "svm = SGDClassifier(loss='hinge', penalty='l2', random_state=42, max_iter=500)\n",
    "svm.fit(avg_wv_train_features, train_label_names)\n",
    "svm_w2v_cv_scores = cross_val_score(svm, avg_wv_train_features, train_label_names, cv=5)\n",
    "svm_w2v_cv_mean_score = np.mean(svm_w2v_cv_scores)\n",
    "print('CV Accuracy (5-fold):', svm_w2v_cv_scores)\n",
    "print('Mean CV Accuracy:', svm_w2v_cv_mean_score)\n",
    "svm_w2v_test_score = svm.score(avg_wv_test_features, test_label_names)\n",
    "print('Test Accuracy:', svm_w2v_test_score)"
   ]
  },
  {
   "cell_type": "markdown",
   "metadata": {},
   "source": [
    "# 예측모형 - GloVe"
   ]
  },
  {
   "cell_type": "code",
   "execution_count": 29,
   "metadata": {},
   "outputs": [
    {
     "name": "stdout",
     "output_type": "stream",
     "text": [
      "GloVe model:> Train features shape: (12261, 96)  Test features shape: (6039, 96)\n"
     ]
    }
   ],
   "source": [
    "# feature engineering with GloVe model\n",
    "train_nlp = [tn.nlp(item) for item in train_corpus]\n",
    "train_glove_features = np.array([item.vector for item in train_nlp])\n",
    "\n",
    "test_nlp = [tn.nlp(item) for item in test_corpus]\n",
    "test_glove_features = np.array([item.vector for item in test_nlp])\n",
    "\n",
    "print('GloVe model:> Train features shape:', train_glove_features.shape, \n",
    "      ' Test features shape:', test_glove_features.shape)"
   ]
  },
  {
   "cell_type": "markdown",
   "metadata": {},
   "source": [
    "## 예측모형 성능"
   ]
  },
  {
   "cell_type": "code",
   "execution_count": 30,
   "metadata": {},
   "outputs": [
    {
     "name": "stdout",
     "output_type": "stream",
     "text": [
      "CV Accuracy (5-fold): [0.19626168 0.15588116 0.16850265 0.16952614 0.17798691]\n",
      "Mean CV Accuracy: 0.1736317081208183\n",
      "Test Accuracy: 0.15283987415134956\n"
     ]
    }
   ],
   "source": [
    "svm = SGDClassifier(loss='hinge', penalty='l2', random_state=42, max_iter=500)\n",
    "svm.fit(train_glove_features, train_label_names)\n",
    "svm_glove_cv_scores = cross_val_score(svm, train_glove_features, train_label_names, cv=5)\n",
    "svm_glove_cv_mean_score = np.mean(svm_glove_cv_scores)\n",
    "print('CV Accuracy (5-fold):', svm_glove_cv_scores)\n",
    "print('Mean CV Accuracy:', svm_glove_cv_mean_score)\n",
    "svm_glove_test_score = svm.score(test_glove_features, test_label_names)\n",
    "print('Test Accuracy:', svm_glove_test_score)"
   ]
  },
  {
   "cell_type": "markdown",
   "metadata": {},
   "source": [
    "# 예측모형 - FastText"
   ]
  },
  {
   "cell_type": "code",
   "execution_count": 31,
   "metadata": {},
   "outputs": [],
   "source": [
    "from gensim.models.fasttext import FastText\n",
    "\n",
    "ft_num_features = 1000\n",
    "# sg decides whether to use the skip-gram model (1) or CBOW (0)\n",
    "ft_model = FastText(tokenized_train, size=ft_num_features, window=100, \n",
    "                    min_count=2, sample=1e-3, sg=1, iter=5, workers=10)"
   ]
  },
  {
   "cell_type": "code",
   "execution_count": 32,
   "metadata": {},
   "outputs": [],
   "source": [
    "# generate averaged word vector features from word2vec model\n",
    "avg_ft_train_features = document_vectorizer(corpus=tokenized_train, model=ft_model,\n",
    "                                                     num_features=ft_num_features)\n",
    "avg_ft_test_features = document_vectorizer(corpus=tokenized_test, model=ft_model,\n",
    "                                                    num_features=ft_num_features)"
   ]
  },
  {
   "cell_type": "code",
   "execution_count": 33,
   "metadata": {},
   "outputs": [
    {
     "name": "stdout",
     "output_type": "stream",
     "text": [
      "FastText model:> Train features shape: (12261, 1000)  Test features shape: (6039, 1000)\n"
     ]
    }
   ],
   "source": [
    "print('FastText model:> Train features shape:', avg_ft_train_features.shape, \n",
    "      ' Test features shape:', avg_ft_test_features.shape)"
   ]
  },
  {
   "cell_type": "markdown",
   "metadata": {},
   "source": [
    "## 예측모형 성능"
   ]
  },
  {
   "cell_type": "code",
   "execution_count": 34,
   "metadata": {},
   "outputs": [
    {
     "name": "stdout",
     "output_type": "stream",
     "text": [
      "CV Accuracy (5-fold): [0.73913043 0.72323972 0.72133823 0.71854575 0.72749591]\n",
      "Mean CV Accuracy: 0.7259500094594913\n",
      "Test Accuracy: 0.7297565822155986\n"
     ]
    }
   ],
   "source": [
    "svm = SGDClassifier(loss='hinge', penalty='l2', random_state=42, max_iter=500)\n",
    "svm.fit(avg_ft_train_features, train_label_names)\n",
    "svm_ft_cv_scores = cross_val_score(svm, avg_ft_train_features, train_label_names, cv=5)\n",
    "svm_ft_cv_mean_score = np.mean(svm_ft_cv_scores)\n",
    "print('CV Accuracy (5-fold):', svm_ft_cv_scores)\n",
    "print('Mean CV Accuracy:', svm_ft_cv_mean_score)\n",
    "svm_ft_test_score = svm.score(avg_ft_test_features, test_label_names)\n",
    "print('Test Accuracy:', svm_ft_test_score)"
   ]
  },
  {
   "cell_type": "code",
   "execution_count": 35,
   "metadata": {},
   "outputs": [
    {
     "data": {
      "text/plain": [
       "MLPClassifier(activation='relu', alpha=1e-05, batch_size='auto', beta_1=0.9,\n",
       "              beta_2=0.999, early_stopping=True, epsilon=1e-08,\n",
       "              hidden_layer_sizes=(512, 512), learning_rate='adaptive',\n",
       "              learning_rate_init=0.001, max_iter=200, momentum=0.9,\n",
       "              n_iter_no_change=10, nesterovs_momentum=True, power_t=0.5,\n",
       "              random_state=42, shuffle=True, solver='adam', tol=0.0001,\n",
       "              validation_fraction=0.1, verbose=False, warm_start=False)"
      ]
     },
     "execution_count": 35,
     "metadata": {},
     "output_type": "execute_result"
    }
   ],
   "source": [
    "from sklearn.neural_network import MLPClassifier\n",
    "\n",
    "mlp = MLPClassifier(solver='adam', alpha=1e-5, learning_rate='adaptive', early_stopping=True,\n",
    "                    activation = 'relu', hidden_layer_sizes=(512, 512), random_state=42)\n",
    "mlp.fit(avg_ft_train_features, train_label_names)"
   ]
  },
  {
   "cell_type": "code",
   "execution_count": 36,
   "metadata": {},
   "outputs": [
    {
     "name": "stdout",
     "output_type": "stream",
     "text": [
      "Test Accuracy: 0.7262791852955788\n"
     ]
    }
   ],
   "source": [
    "svm_ft_test_score = mlp.score(avg_ft_test_features, test_label_names)\n",
    "print('Test Accuracy:', svm_ft_test_score)"
   ]
  },
  {
   "cell_type": "code",
   "execution_count": null,
   "metadata": {},
   "outputs": [],
   "source": []
  }
 ],
 "metadata": {
  "anaconda-cloud": {},
  "kernelspec": {
   "display_name": "Python 3",
   "language": "python",
   "name": "python3"
  },
  "language_info": {
   "codemirror_mode": {
    "name": "ipython",
    "version": 3
   },
   "file_extension": ".py",
   "mimetype": "text/x-python",
   "name": "python",
   "nbconvert_exporter": "python",
   "pygments_lexer": "ipython3",
   "version": "3.6.5"
  },
  "toc": {
   "base_numbering": 1,
   "nav_menu": {},
   "number_sections": true,
   "sideBar": true,
   "skip_h1_title": false,
   "title_cell": "Table of Contents",
   "title_sidebar": "Contents",
   "toc_cell": false,
   "toc_position": {},
   "toc_section_display": true,
   "toc_window_display": false
  }
 },
 "nbformat": 4,
 "nbformat_minor": 2
}

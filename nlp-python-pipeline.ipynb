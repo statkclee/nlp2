{
 "cells": [
  {
   "cell_type": "markdown",
   "metadata": {},
   "source": [
    "# 파이썬 파이프라인\n",
    "\n",
    "R에는 `magrittr` 팩키지를 통해서 `%>%`을 비롯하여 다양한 파이프 연산자를 제공하고 있다.\n",
    "파이프라인을 사용하게 되면 함수를 모듈화시켜 디버깅도 쉽고 개발과정도 단순화할 수 있으며 레고 블록처럼 모듈을 교체하거나 바꿔서 기능을 수월하게 확장할 수 있다.\n",
    "\n",
    "> **데이터프레임 `%>%` 함수1 `%>%` 함수2 `%>%` ...**\n",
    "\n",
    "데이터 즉, 데이터프레임을 함수를 체인과 같은 방식으로 연결시켜 흘러보내 원하는 결과를 도출하는 방식으로 눈의 흐름과 사고의 흐름이 일치하게 되어 인지부하도 많이 줄어들게 된다. 반면에 파이프라인 없이 함수를 중첩시켜 사용하게 되면 눈의 흐름과 사고의 흐름이 역으로 흘러 정신적 스트레스가 올라갈 수 있다.\n",
    "\n",
    "> ** ...(함수3(함수2(함수1(데이터프레임)))...)**"
   ]
  },
  {
   "cell_type": "markdown",
   "metadata": {},
   "source": [
    "# `iris` 기계학습\n",
    "\n",
    "[Managing Machine Learning Workflows with Scikit-learn Pipelines Part 1: A Gentle Introduction](https://www.kdnuggets.com/2017/12/managing-machine-learning-workflows-scikit-learn-pipelines-part-1.html) 에서 제시된 Scikit-learn 파이프라인 적용 사례를 살펴보자. \n",
    "가장 먼저 내장된 `iris` 데이터셋을 사용해서 기계학습 파이프라인을 구축했다."
   ]
  },
  {
   "cell_type": "markdown",
   "metadata": {},
   "source": [
    "## 경고 제거\n",
    "\n",
    "쥬피터 노트북에서 경고를 보이지 않도록 조치한다!!!"
   ]
  },
  {
   "cell_type": "code",
   "execution_count": 13,
   "metadata": {},
   "outputs": [],
   "source": [
    " import warnings\n",
    "warnings.filterwarnings(\"ignore\")"
   ]
  },
  {
   "cell_type": "markdown",
   "metadata": {},
   "source": [
    "## 기계학습 파이프라인\n",
    "\n",
    "`Pipeline` 클래스가 필요하고 내부에 튜플 리스트로 전처리 작업을 포함해서 기계학습 예측모형을 파이프라인에 넣어 정의한다.\n",
    "로지스틱 회귀분석 모형과 SVM 두가지 예측모형을 정규화 및 주성분 분석으로 추출하여 이를 분류모형에 넣어 예측모형을 적합시킨다."
   ]
  },
  {
   "cell_type": "code",
   "execution_count": 16,
   "metadata": {},
   "outputs": [
    {
     "name": "stdout",
     "output_type": "stream",
     "text": [
      "파이프라인 시험데이터 정확도(Logistic Regression)\t: 0.89\n",
      "파이프라인 시험데이터 정확도(Support Vector Machine)\t: 0.96\n"
     ]
    }
   ],
   "source": [
    "from sklearn.datasets import load_iris\n",
    "from sklearn.model_selection import train_test_split\n",
    "from sklearn.preprocessing import StandardScaler\n",
    "from sklearn.decomposition import PCA\n",
    "from sklearn.pipeline import Pipeline\n",
    "from sklearn.linear_model import LogisticRegression\n",
    "from sklearn import svm\n",
    "\n",
    "# 데이터 가져오기\n",
    "iris = load_iris()\n",
    "\n",
    "# 훈련시험데이터 분할\n",
    "X_train, X_test, y_train, y_test = train_test_split(iris.data, iris.target, test_size=0.3, random_state=777)\n",
    "\n",
    "# 파이프라인 구축\n",
    "pipe_lr = Pipeline([('scl', StandardScaler()),\n",
    "                    ('pca', PCA(n_components=2)),\n",
    "                    ('clf', LogisticRegression(random_state=777))])\n",
    "\n",
    "pipe_svm = Pipeline([('scl', StandardScaler()),\n",
    "                     ('pca', PCA(n_components=2)),\n",
    "                     ('clf', svm.SVC(random_state=777))])\n",
    "\n",
    "# 파이프라인 리스트: 수월한 반복\n",
    "pipelines = [pipe_lr, pipe_svm]\n",
    "\n",
    "# 모형 딕셔너리 정의\n",
    "pipe_dict = {0: 'Logistic Regression', 1: 'Support Vector Machine'}\n",
    "\n",
    "# 파이프라인 예측모형 적합\n",
    "for pipe in pipelines:\n",
    "    pipe.fit(X_train, y_train)\n",
    "\n",
    "# 예측모형 정확도 비교\n",
    "for model_idx, model in enumerate(pipelines):\n",
    "    print(f'파이프라인 시험데이터 정확도({pipe_dict[model_idx]})\\t: {model.score(X_test, y_test):.2f}')\n"
   ]
  },
  {
   "cell_type": "markdown",
   "metadata": {},
   "source": [
    "# 텍스트 Feature 기계학습모형\n",
    "\n",
    "- [Spooky, \"Work like a Pro with Pipelines and Feature Unions\"](https://www.kaggle.com/metadist/work-like-a-pro-with-pipelines-and-feature-unions)\n",
    "- [Chris Fotache(May 10, 2018), \"Text Classification in Python: Pipelines, NLP, NLTK, Tf-Idf, XGBoost and more\"](https://medium.com/@chrisfotache/text-classification-in-python-pipelines-nlp-nltk-tf-idf-xgboost-and-more-b83451a327e0)"
   ]
  }
 ],
 "metadata": {
  "kernelspec": {
   "display_name": "Python 3",
   "language": "python",
   "name": "python3"
  },
  "language_info": {
   "codemirror_mode": {
    "name": "ipython",
    "version": 3
   },
   "file_extension": ".py",
   "mimetype": "text/x-python",
   "name": "python",
   "nbconvert_exporter": "python",
   "pygments_lexer": "ipython3",
   "version": "3.6.5"
  },
  "toc": {
   "base_numbering": 1,
   "nav_menu": {},
   "number_sections": true,
   "sideBar": true,
   "skip_h1_title": false,
   "title_cell": "Table of Contents",
   "title_sidebar": "Contents",
   "toc_cell": false,
   "toc_position": {},
   "toc_section_display": true,
   "toc_window_display": false
  }
 },
 "nbformat": 4,
 "nbformat_minor": 2
}

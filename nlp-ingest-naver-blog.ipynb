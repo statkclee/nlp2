{
 "cells": [
  {
   "cell_type": "markdown",
   "metadata": {},
   "source": [
    "# 네이버 블로그\n",
    "\n",
    "@나성호님 Tidyverse Korea 자연어 처리 발표자료에서 가져옴\n",
    "\n",
    "## 크롤링을 위해 필요한 라이브러리를 가져옴"
   ]
  },
  {
   "cell_type": "code",
   "execution_count": 53,
   "metadata": {},
   "outputs": [
    {
     "name": "stdout",
     "output_type": "stream",
     "text": [
      "상태코드: 200\n",
      "         헤더: {'Date': 'Mon, 01 Jul 2019 06:16:43 GMT', 'Content-Type': 'text/html; charset=utf-8', 'Transfer-Encoding': 'chunked', 'Connection': 'close', 'Vary': 'Accept-Encoding', 'Cache-Control': 'no-store, no-cache', 'Expires': 'Thu, 01 Jan 1970 00:00:00 GMT', 'Set-Cookie': 'JSESSIONID=778DF6BD46EBB22F7D0C9CE13FA50A32.jvm1; Path=/; HttpOnly', 'P3P': 'CP=\"ALL CURa ADMa DEVa TAIa OUR BUS IND PHY ONL UNI PUR FIN COM NAV INT DEM CNT STA POL HEA PRE LOC OTC\"', 'Server': 'nxfps', 'Referrer-policy': 'unsafe-url', 'Content-Encoding': 'gzip'}\n",
      "         몸통: <!DOCTYPE html PUBLIC \"-//W3C//DTD XHTML 1.0 Transitional//EN\" \"http://www.w3.org/TR/xhtml1/DTD/xhtml1-transitional.dtd\">\n",
      "<html>\n",
      "<head>\n",
      "<meta http-equiv=\"Pragma\" content=\"no-cache\"/>\n",
      "<meta http-equiv=\"Expires\" content=\"-1\"/>\n",
      "<meta name=\"robots\" content=\"noindex,follow\"/>\n",
      "<meta name=\"referrer\" content=\"always\"/>\n",
      "<meta http-equiv=\"Content-Type\" content=\"text/html; charset=utf-8\"/>\n",
      "<meta http-equiv=\"X-UA-Compatible\" content=\"IE=edge,chrome=1\" />\n",
      "<link rel=\"alternate\" type=\"application/rss+xml\" title=\"기억의 기록\" href=\"http://sommming.blog.me/rss\" />\n",
      "<link rel=\"wlwmanifest\" type=\"application/wlwmanifest+xml\" href=\"http://sommming.blog.me/NBlogWlwLayout.nhn?blogId=sommming\" />\n",
      "<link rel=\"shortcut icon\" href=\"//blog.naver.com/favicon.ico\" />\n",
      "<title>기억의 기록 : 네이버 블로그</title>\n",
      "\n",
      "</head>\n",
      "\n",
      "<frameset rows=\"*,0\" frameborder=\"0\" framespacing=\"0\">\n",
      "  <frame id=\"screenFrame\" name=\"screenFrame\" src='https://blog.naver.com/sommming/221571623395?proxyReferer=' scrolling=\"auto\" />\n",
      "</frameset>\n",
      "</html>\n"
     ]
    }
   ],
   "source": [
    "# 필요한 라이브러리를 불러옵니다. \n",
    "import requests # HTTP 접속\n",
    "from bs4 import BeautifulSoup  # 웹페이지 파싱\n",
    "import re  # 정규표현식\n",
    "import pandas as pd # 데이터프레임\n",
    "\n",
    "# 관심 있는 블로그의 URL을 복사하여 붙입니다. \n",
    "URL = 'https://sommming.blog.me/221571623395'\n",
    "# HTTP 요청을 실행합니다. \n",
    "res = requests.get(URL)\n",
    "\n",
    "# HTTP 반응 결과를 확인합니다. \n",
    "# HTTP 반응에서 HTML만 따로 출력합니다. \n",
    "# 찾는 내용이 없고 <frame>으로 링크가 걸려 있습니다. \n",
    "print(f'상태코드: {res.status_code}\\n \\\n",
    "        헤더: {res.headers}\\n \\\n",
    "        몸통: {res.content.decode(\"utf-8\").strip()}')\n"
   ]
  },
  {
   "cell_type": "markdown",
   "metadata": {},
   "source": [
    "## 최종 크롤링 주소를 찾아냅니다."
   ]
  },
  {
   "cell_type": "code",
   "execution_count": 59,
   "metadata": {
    "scrolled": true
   },
   "outputs": [
    {
     "name": "stdout",
     "output_type": "stream",
     "text": [
      "https://blog.naver.com/sommming/221571623395?proxyReferer=https://section.blog.naver.com/BlogHome.nhn\n"
     ]
    }
   ],
   "source": [
    "# BeautifulSoup을 이용하여 HTML을 parsing합니다. \n",
    "html = BeautifulSoup(res.content, 'html.parser')\n",
    "target_URL = html.find('frame').get('src')\n",
    "target_URL = target_URL + 'https://section.blog.naver.com/BlogHome.nhn'\n",
    "print(target_URL)"
   ]
  },
  {
   "cell_type": "markdown",
   "metadata": {},
   "source": [
    "## BeautifulSoup을 이용하여 HTML을 parsing합니다. \n"
   ]
  },
  {
   "cell_type": "code",
   "execution_count": 65,
   "metadata": {
    "scrolled": false
   },
   "outputs": [
    {
     "name": "stdout",
     "output_type": "stream",
     "text": [
      "\t URL: https://blog.naver.com/sommming/221571623395?proxyReferer=https://section.blog.naver.com/BlogHome.nhn \n",
      "         상태코드: 200\n",
      "         헤더: {'Date': 'Mon, 01 Jul 2019 06:21:04 GMT', 'Content-Type': 'text/html;charset=UTF-8', 'Transfer-Encoding': 'chunked', 'Connection': 'close', 'Cache-Control': 'no-cache', 'Expires': 'Thu, 01 Jan 1970 00:00:00 GMT', 'Set-Cookie': 'JSESSIONID=DBF4E688813F365B83FF33C2772F132C.jvm1; Path=/; HttpOnly', 'P3P': 'CP=\"ALL CURa ADMa DEVa TAIa OUR BUS IND PHY ONL UNI PUR FIN COM NAV INT DEM CNT STA POL HEA PRE LOC OTC\"', 'Access-Control-Allow-Credentials': 'true', 'Access-Control-Allow-Headers': 'accept, content-type', 'Access-Control-Allow-Methods': 'GET, POST', 'Vary': 'Accept-Encoding', 'Content-Encoding': 'gzip', 'Server': 'nxfps', 'Referrer-policy': 'unsafe-url'}\n",
      "         몸통: <!DOCTYPE html PUBLIC \"-//W3C//DTD XHTML 1.0 Transitional//EN\" \"http://www.w3.org/TR/xhtml1/DTD/xhtml1-transitional.dtd\">\n",
      "<html lang=\"ko\">\n",
      "<head>\n",
      "<meta http-equiv=\"Pragma\" content=\"no-cache\"/>\n",
      "<meta http-equiv=\"Expires\" content=\"-1\"/>\n",
      "<meta name=\"robots\" content=\"noindex,follow\"/>\n",
      "<meta name=\"referrer\" content=\"always\"/>\n",
      "<meta http-equiv=\"content-type\" content=\"text/html;charset=UTF-8\"/>\n",
      "<meta http-equiv=\"X-UA-Compatible\" content=\"IE=edge,chrome=1\" />\n",
      "<link rel=\"shortcut icon\" type=\"image/x-icon\" href=\"/favicon.ico?2\" />\n",
      "<link rel=\"alternate\" type=\"application/rss+xml\" href=\"https://rss.blog.naver.com/sommming.xml\" title=\"RSS feed for sommming Blog\"/>\n",
      "<link rel=\"wlwmanifest\" type=\"application/wlwmanifest+xml\" href=\"https://blog.naver.com/NBlogWlwLayout.nhn?blogId=sommming\" />\n",
      "\n",
      "\n",
      "\n",
      "\n",
      "<title>기억의 기록 : 네이버 블로그</title>\n",
      "</head>\n",
      "<script type=\"text/javascript\" src=\"https://ssl.pstatic.net/t.static.blog/mylog/versioning/Frameset-657805386_https.js\" charset=\"UTF-8\"></script>\n",
      "\n",
      "<script type=\"text/javascript\" charset=\"UTF-8\">\n",
      "var photoContent=\"\";\n",
      "var postContent=\"\";\n",
      "\n",
      "var videoId \t  = \"\";\n",
      "var thumbnail \t  = \"\";\n",
      "var inKey \t\t  = \"\";\n",
      "var movieFileSize = \"\";\n",
      "var playTime \t  = \"\";\n",
      "var screenSize \t  = \"\";\n",
      "\n",
      "var blogId = 'sommming';\n",
      "var blogURL = 'https://blog.naver.com';\n",
      "var eventCnt = '';\n",
      "\n",
      "var g_ShareObject = {};\n",
      "g_ShareObject.referer = \"https%3A%2F%2Fsection.blog.naver.com%2FBlogHome.nhn\";\n",
      "\n",
      "\n",
      "jsMVC.setController(\"framesetTitleController\", FramesetTitleController);\n",
      "jsMVC.setController(\"framesetUrlController\", FramesetUrlController);\n",
      "jsMVC.setController(\"framesetMusicController\", FramesetMusicController);\n",
      "var oFramesetTitleController = jsMVC.getController(\"framesetTitleController\");\n",
      "var oFramesetUrlController = jsMVC.getController(\"framesetUrlController\");\n",
      "var oFramesetMusicController = jsMVC.getController(\"framesetMusicController\");\n",
      "var sTitle = document.title;\n",
      "\n",
      "</script>\n",
      "<style type=\"text/css\">\n",
      "    html{width:100%;height:100%;}\n",
      "    body{width:100%;height:100%;margin:0;padding:0;font-size:0;}\n",
      "    #mainFrame{width:100%;height:99.8%;margin:0;padding:0;border:0;}\n",
      "    #hiddenFrame{width:0;height:0;margin:0;padding:0;border:0;}\n",
      "</style>\n",
      "<body>\n",
      "    <iframe id=\"mainFrame\" name=\"mainFrame\" allowfullscreen=\"true\" src=\"/PostView.nhn?blogId=sommming&logNo=221571623395&redirect=Dlog&widgetTypeCall=true&from=section&topReferer=https%3A%2F%2Fsection.blog.naver.com%2FBlogHome.nhn&directAccess=false\" scrolling=\"auto\"  onload=\"oFramesetTitleController.start(self.frames['mainFrame'], self, sTitle);oFramesetTitleController.onLoadFrame();oFramesetUrlController.start(self.frames['mainFrame']);oFramesetUrlController.onLoadFrame()\" allowfullscreen></iframe>\n",
      "    <iframe id=\"hiddenFrame\" name=\"hiddenFrame\" src=\"/NBlogHidden.nhn?blogId=sommming&musicYN=false\" scrolling=\"no\" noresize=\"noresize\"></iframe>\n",
      "</body>\n",
      "</html>\n"
     ]
    }
   ],
   "source": [
    "# HTTP 요청을 실행합니다. \n",
    "res = requests.get(target_URL)\n",
    "\n",
    "# HTTP 반응 결과를 확인합니다. \n",
    "print(f'\\t URL: {target_URL} \\n \\\n",
    "        상태코드: {res.status_code}\\n \\\n",
    "        헤더: {res.headers}\\n \\\n",
    "        몸통: {res.content.decode(\"utf-8\").strip()}')\n"
   ]
  },
  {
   "cell_type": "code",
   "execution_count": 67,
   "metadata": {},
   "outputs": [
    {
     "data": {
      "text/plain": [
       "'https://sommming.blog.me/221571623395/PostView.nhn?blogId=sommming&logNo=221571623395&redirect=Dlog&widgetTypeCall=true&from=section&topReferer=https%3A%2F%2Fsection.blog.naver.com%2FBlogHome.nhn&directAccess=false'"
      ]
     },
     "execution_count": 67,
     "metadata": {},
     "output_type": "execute_result"
    }
   ],
   "source": [
    "# BeautifulSoup을 이용하여 HTML을 parsing합니다. \n",
    "html = BeautifulSoup(res.content, 'html.parser')\n",
    "URL + html.find('iframe').get('src')"
   ]
  },
  {
   "cell_type": "markdown",
   "metadata": {},
   "source": [
    "# 블로그글 &rarr; 데이터프레임"
   ]
  },
  {
   "cell_type": "markdown",
   "metadata": {},
   "source": [
    "## 블로그 제목"
   ]
  },
  {
   "cell_type": "code",
   "execution_count": 73,
   "metadata": {
    "scrolled": true
   },
   "outputs": [],
   "source": [
    "%%script false \n",
    "\n",
    "# HTTP 요청을 실행합니다. \n",
    "res = requests.get(target_URL)\n",
    "\n",
    "# BeautifulSoup을 이용하여 HTML을 parsing합니다. \n",
    "html = BeautifulSoup(res.content, 'html.parser')\n",
    "\n",
    "# 크롬 개발자도구의 Elements에서 블로그 제목에 해당하는 태그를 찾습니다. \n",
    "html.find('span', {'class':'se-fs-fs38'}).get_text()\n"
   ]
  },
  {
   "cell_type": "markdown",
   "metadata": {},
   "source": [
    "## 블로거 닉네임"
   ]
  },
  {
   "cell_type": "code",
   "execution_count": 74,
   "metadata": {},
   "outputs": [],
   "source": [
    "%%script false \n",
    "# 찾은 태그 안에 있는 텍스트만 출력합니다. \n",
    "html.find('span', {'class':'nick'}).a.get_text()"
   ]
  },
  {
   "cell_type": "markdown",
   "metadata": {},
   "source": [
    "## 작성일자"
   ]
  },
  {
   "cell_type": "code",
   "execution_count": 75,
   "metadata": {},
   "outputs": [],
   "source": [
    "%%script false \n",
    "# 찾은 태그 안에 있는 텍스트만 출력합니다. \n",
    "html.find('span', {'class':'se_publishDate'}).get_text()"
   ]
  },
  {
   "cell_type": "markdown",
   "metadata": {},
   "source": [
    "## 블로그 본문"
   ]
  },
  {
   "cell_type": "code",
   "execution_count": 76,
   "metadata": {},
   "outputs": [],
   "source": [
    "%%script false \n",
    "text = html.find('div', {'class':'se-main-container'}).get_text()\n",
    "re.compile('[^가-힣0-9ㄱ-ㅎㅏ-ㅣ^]+').sub(' ', text).strip()"
   ]
  },
  {
   "cell_type": "markdown",
   "metadata": {},
   "source": [
    "## 데이터프레임 저장"
   ]
  },
  {
   "cell_type": "code",
   "execution_count": 77,
   "metadata": {},
   "outputs": [],
   "source": [
    "%%script false \n",
    "# 복잡한 구조를 갖는 body를 데이터프레임으로 일괄 변환합니다. \n",
    "# 필요한 컬럼만 남깁니다. \n",
    "blog = pd.DataFrame(columns = ['head', 'user', 'date', 'text'])\n",
    "\n",
    "blog = blog.append({'head':html.find('span', {'class':'se-fs-fs38'}).get_text(), \n",
    "                    'user':html.find('span', {'class':'nick'}).a.get_text(),\n",
    "                    'date':html.find('span', {'class':'se_publishDate'}).get_text(),\n",
    "                    'text':re.compile('\\W+').sub(' ', text).strip()},\n",
    "                   ignore_index = True)\n",
    "\n",
    "blog\n"
   ]
  }
 ],
 "metadata": {
  "kernelspec": {
   "display_name": "Python 3",
   "language": "python",
   "name": "python3"
  },
  "language_info": {
   "codemirror_mode": {
    "name": "ipython",
    "version": 3
   },
   "file_extension": ".py",
   "mimetype": "text/x-python",
   "name": "python",
   "nbconvert_exporter": "python",
   "pygments_lexer": "ipython3",
   "version": "3.6.5"
  },
  "toc": {
   "base_numbering": 1,
   "nav_menu": {},
   "number_sections": true,
   "sideBar": true,
   "skip_h1_title": false,
   "title_cell": "Table of Contents",
   "title_sidebar": "Contents",
   "toc_cell": false,
   "toc_position": {},
   "toc_section_display": true,
   "toc_window_display": false
  }
 },
 "nbformat": 4,
 "nbformat_minor": 2
}

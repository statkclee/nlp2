{
 "cells": [
  {
   "cell_type": "markdown",
   "metadata": {},
   "source": [
    "# 데이터 사이언스 현재와 미래\n",
    "\n",
    "데이터 사이언스 현재와 미래는 다음과 같이 달라질 것이다.\n",
    "현재는 데이터 사이언스팀에서 경영진을 위해, 즉 의사결정을 지원하기 위한 보고서를 만드는 과정과 확정된 방안을 바탕으로 기술검토를 거쳐 데이터 사이언스 제품을 제작하는 과정이 주를 이루고 있지만, 앞으로 데이터 사이언스 개발팀에서 바로 데이터 사이언스 제품을 제작하는 과정으로 옮겨 나갈 것이다.\n",
    "\n",
    "<img src=\"fig/data-science-product-as-is-to-be.png\" alt=\"데이터 사이언스 현재와 미래\" width=\"70%\">\n",
    "\n",
    "- [Applied Text Analysis with Python\n",
    "Enabling Language-Aware Data Products with Machine Learning](http://shop.oreilly.com/product/0636920052555.do)\n",
    "\n",
    "데이터 사이언스 제품 개발과정은 데이터 섭취(ingest)로부터 시작하여 기계학습 모형을 개발하고 이를 배포하여 API로 뽑아내는 과정을 아우른다.\n",
    "\n",
    "\n",
    "<img src=\"fig/data-product-pipeline.png\" alt=\"데이터 사이언스 제품 개발과정\" width=\"70%\">\n"
   ]
  },
  {
   "cell_type": "markdown",
   "metadata": {},
   "source": [
    "# 텍스트 기술통계량\n",
    "\n",
    "[Neal Caren, \"Using Python to see how the Times writes about men and women\", University of North Carolina, Chapel Hill](https://nbviewer.jupyter.org/gist/nealcaren/5105037)에 나온 내용을 바탕으로 간단한 모형을 제작해 보자.\n",
    "\n",
    "## 텍스트 데이터\n",
    "\n",
    "`nltk` 라이브러리에는 `gutenberg`, `brown`, `reuters`, `inaugral` 말뭉치(corpus)를 불러서 텍스트 자연어 처리 예제 데이터로 사용할 수 있다. \n",
    "\n",
    "- corpus.raw(fileids)\n",
    "- corpus.words(fileids)\n",
    "- corpus.sents(fileids)\n",
    "- corpus.categories()\n",
    "- corpus.fileids()\n",
    "\n",
    "<img src=\"fig/nltk-dataset.png\" alt=\"NLTK 데이터셋\" width=\"70%\" />\n",
    "\n",
    "가장 먼저 로이터 신문기사를 텍스트 데이터로 얻어보자. 이를 위해서 `nltk` 라이브러리에 포함된 `nltk.download()` 메쏘드를 사용해서 로이터 기사 데이터셋(`reuters`)을 가져온다.\n",
    "\n",
    "\n",
    "그 다음 로이터 데이터셋에서 다양한 기사가 다양한 분류로 되어 있어 `reuters.categories()` 메쏘드를 사용해서 특정 영역 기사만 추출해낸다.\n",
    "특정 영역(예를 들어 `coffee`) 내부에 뉴스기사가 많아, `reuters.fileids(\"coffee\")` 명령어로 추출한 커피관련 뉴스 기사 하나만 추출해 낸다.\n",
    "\n",
    "- [Youngmi huang (Jul 30, 2018), \"NLTK 初學指南(二)：由外而內，從語料庫到字詞拆解 — 上手篇\"](https://medium.com/pyladies-taiwan/nltk-%E5%88%9D%E5%AD%B8%E6%8C%87%E5%8D%97-%E4%BA%8C-%E7%94%B1%E5%A4%96%E8%80%8C%E5%85%A7-%E5%BE%9E%E8%AA%9E%E6%96%99%E5%BA%AB%E5%88%B0%E5%AD%97%E8%A9%9E%E6%8B%86%E8%A7%A3-%E4%B8%8A%E6%89%8B%E7%AF%87-e9c632d2b16a)"
   ]
  },
  {
   "cell_type": "code",
   "execution_count": 23,
   "metadata": {},
   "outputs": [
    {
     "name": "stdout",
     "output_type": "stream",
     "text": [
      "INDONESIAN COMMODITY EXCHANGE MAY EXPAND\n",
      "  The Indonesian Commodity Exchange is\n",
      "  likely to start trading in at least one new commodity, and\n",
      "  possibly two, during calendar 1987, exchange chairman Paian\n",
      "  Nainggolan said.\n",
      "      He told Reuters in a telephone interview that trading in\n",
      "  palm oil, sawn timber, pepper or tobacco was being considered.\n",
      "      Trading in either crude palm oil (CPO) or refined palm oil\n",
      "  may also be introduced. But he said the question was still\n",
      "  being considered by Trade Minister Rachmat Saleh and no\n",
      "  decision on when to go ahead had been made.\n",
      "      The fledgling exchange currently trades coffee and rubber\n",
      "  physicals on an open outcry system four days a week.\n",
      "      \"Several factors make us move cautiously,\" Nainggolan said.\n",
      "  \"We want to move slowly and safely so that we do not make a\n",
      "  mistake and undermine confidence in the exchange.\"\n",
      "      Physical rubber trading was launched in 1985, with coffee\n",
      "  added in January 1986. Rubber contracts are traded FOB\n"
     ]
    }
   ],
   "source": [
    "# import nltk\n",
    "# nltk.download('reuters')\n",
    "\n",
    "from nltk.corpus import reuters \n",
    "\n",
    "## print(reuters.categories())\n",
    "# ['acq', 'alum', 'barley', 'bop', 'carcass', 'castor-oil', 'cocoa', 'coconut', 'coconut-oil', 'coffee', 'copper', \n",
    "# 'copra-cake', 'corn', 'cotton', 'cotton-oil', 'cpi', 'cpu', 'crude', 'dfl', 'dlr', 'dmk', 'earn', 'fuel', 'gas', \n",
    "# 'gnp', 'gold', 'grain', 'groundnut', 'groundnut-oil', 'heat', 'hog', 'housing', 'income', 'instal-debt', 'interest', \n",
    "# 'ipi', 'iron-steel', 'jet', 'jobs', 'l-cattle', 'lead', 'lei', 'lin-oil', 'livestock', 'lumber', 'meal-feed', \n",
    "# 'money-fx', 'money-supply', 'naphtha', 'nat-gas', 'nickel', 'nkr', 'nzdlr', 'oat', 'oilseed', 'orange', 'palladium', \n",
    "# 'palm-oil', 'palmkernel', 'pet-chem', 'platinum', 'potato', 'propane', 'rand', 'rape-oil', 'rapeseed', 'reserves', \n",
    "# 'retail', 'rice', 'rubber', 'rye', 'ship', 'silver', 'sorghum', 'soy-meal', 'soy-oil', 'soybean', 'strategic-metal', \n",
    "# 'sugar', 'sun-meal', 'sun-oil', 'sunseed', 'tea', 'tin', 'trade', 'veg-oil', 'wheat', 'wpi', 'yen', 'zinc']\n",
    "\n",
    "coffee_docs = reuters.fileids(\"coffee\")\n",
    "\n",
    "print(reuters.raw(coffee_docs[0])[:1000])"
   ]
  },
  {
   "cell_type": "markdown",
   "metadata": {},
   "source": [
    "## 단순한 성차별 평가 모형\n",
    "\n",
    "뉴스 신문기사에서 남성단어와 여성단어를 구분하고 각각 얼마나 회자되는지 기술통계량을 통해서 상황의 심각성을 파악한다.\n",
    "\n",
    "### 성차별 결과 판정 함수\n",
    "\n",
    "단어 리스트(word list)를 입력값으로 넣어 남성단어(`MALE_WORDS`), 혹은 여성단어(`FEMALE_WORDS`) 인지 판정하는 함수를 작성한다.\n",
    "이를 위해서 예제 테스트 단어로 `reuters.words(categories='coffee')` 단어 리스트를 넣어 `male_or_female()` 함수로 판정합니다."
   ]
  },
  {
   "cell_type": "code",
   "execution_count": 68,
   "metadata": {},
   "outputs": [
    {
     "data": {
      "text/plain": [
       "'both'"
      ]
     },
     "execution_count": 68,
     "metadata": {},
     "output_type": "execute_result"
    }
   ],
   "source": [
    "## 남성/여성 정의\n",
    "MALE = 'male'\n",
    "FEMALE = 'female'\n",
    "UNKNOWN = 'unknown'\n",
    "BOTH = 'both'\n",
    "\n",
    "MALE_WORDS = set([\n",
    "    'guy','spokesman','chairman',\"men's\",'men','him',\"he's\",'his',\n",
    "    'boy','boyfriend','boyfriends','boys','brother','brothers','dad',\n",
    "    'dads','dude','father','fathers','fiance','gentleman','gentlemen',\n",
    "    'god','grandfather','grandpa','grandson','groom','he','himself',\n",
    "    'husband','husbands','king','male','man','mr','nephew','nephews',\n",
    "    'priest','prince','son','sons','uncle','uncles','waiter','widower',\n",
    "    'widowers'\n",
    "])\n",
    "\n",
    "FEMALE_WORDS = set([\n",
    "    'heroine','spokeswoman','chairwoman',\"women's\",'actress','women',\n",
    "    \"she's\",'her','aunt','aunts','bride','daughter','daughters','female',\n",
    "    'fiancee','girl','girlfriend','girlfriends','girls','goddess',\n",
    "    'granddaughter','grandma','grandmother','herself','ladies','lady',\n",
    "    'lady','mom','moms','mother','mothers','mrs','ms','niece','nieces',\n",
    "    'priestess','princess','queens','she','sister','sisters','waitress',\n",
    "    'widow','widows','wife','wives','woman'\n",
    "])\n",
    "\n",
    "## 남성 혹은 여성 판별함수\n",
    "def male_or_female(words):\n",
    "    mwlen = len(MALE_WORDS.intersection(words))\n",
    "    fwlen = len(FEMALE_WORDS.intersection(words))\n",
    "    \n",
    "    if mwlen > 0 and fwlen == 0: \n",
    "        return MALE\n",
    "    elif mwlen == 0 and fwlen > 0: \n",
    "        return FEMALE\n",
    "    elif mwlen > 0 and fwlen > 0: \n",
    "        return BOTH\n",
    "    else:\n",
    "        return UNKNOWN\n",
    "\n",
    "test_sentence = 'chairman'\n",
    "\n",
    "# reuters.words(categories='coffee')\n",
    "# ['INDONESIAN', 'COMMODITY', 'EXCHANGE', 'MAY', ...]\n",
    "male_or_female(reuters.words(categories='coffee'))"
   ]
  },
  {
   "cell_type": "markdown",
   "metadata": {},
   "source": [
    "### 문장 하나 이상 판정\n",
    "\n",
    "앞서 `male_or_female()` 함수 하나를 가지고 판정을 했다면 문장을 넣어 문장별로 판정을 하는 로직을 `count_gender()` 함수로 작성하여 판정을 진행합니다."
   ]
  },
  {
   "cell_type": "code",
   "execution_count": 73,
   "metadata": {},
   "outputs": [
    {
     "data": {
      "text/plain": [
       "(Counter({'unknown': 36710}), Counter({'unknown': 160998}))"
      ]
     },
     "execution_count": 73,
     "metadata": {},
     "output_type": "execute_result"
    }
   ],
   "source": [
    "from collections import Counter \n",
    "\n",
    "def count_gender(sentences):\n",
    "    sents = Counter()\n",
    "    words = Counter()\n",
    "    for sentence in sentences:\n",
    "        gender = male_or_female(sentence) \n",
    "        sents[gender] += 1 \n",
    "        words[gender] += len(sentence)\n",
    "    return sents, words\n",
    "\n",
    "count_gender(reuters.words(categories='coffee'))"
   ]
  },
  {
   "cell_type": "markdown",
   "metadata": {},
   "source": [
    "### 판정결과 출력\n",
    "\n",
    "`parse_gender()` 함수를 작성하여 텍스트를 넣게 되면 이를 토큰화해서 객체를 만들고(`sentences`) 이를 계량화해서 출력하는 코드를 작성한다."
   ]
  },
  {
   "cell_type": "code",
   "execution_count": 72,
   "metadata": {},
   "outputs": [
    {
     "name": "stdout",
     "output_type": "stream",
     "text": [
      "36.49% male (5 sentences)\n",
      "63.51% unknown (14 sentences)\n"
     ]
    }
   ],
   "source": [
    "import nltk\n",
    "\n",
    "def parse_gender(text):\n",
    "    sentences = [\n",
    "        [word.lower() for word in nltk.word_tokenize(sentence)] \n",
    "        for sentence in nltk.sent_tokenize(text)\n",
    "    ]\n",
    "    sents, words = count_gender(sentences)\n",
    "    total = sum(words.values())\n",
    "    for gender, count in words.items(): \n",
    "        pcnt = (count / total) * 100 \n",
    "        num_sents = sents[gender]\n",
    "        print(f\"{pcnt:.2f}% {gender} ({num_sents} sentences)\")\n",
    "        \n",
    "parse_gender(reuters.raw(coffee_docs[0]))        "
   ]
  },
  {
   "cell_type": "markdown",
   "metadata": {},
   "source": [
    "# 텍스트 기술 통계량\n",
    "\n",
    "한 문서에 대한 기술통계량에는 다음 사항이 포함된다.\n",
    "\n",
    "- 전체 문단수 (paragraph)\n",
    "- 전체 문장수 (sentence)\n",
    "- 전체 단어수 (word)\n",
    "- 유일무이한 단어수 (unique terms)\n",
    "- 전체 단어에 대한 유일무이한 단어 비율 (lexical diversity) : $\\frac{\\text{유일무이한 단어수}}{{전체 단어수}}$\n",
    "- 문단별 평균 단어수\n",
    "- 총 처리시간"
   ]
  },
  {
   "cell_type": "code",
   "execution_count": 79,
   "metadata": {},
   "outputs": [
    {
     "data": {
      "text/plain": [
       "[('the', 1710),\n",
       " (',', 1637),\n",
       " ('.', 1618),\n",
       " ('to', 1005),\n",
       " ('of', 827),\n",
       " ('in', 649),\n",
       " ('coffee', 643),\n",
       " ('and', 590),\n",
       " ('a', 586),\n",
       " ('said', 576)]"
      ]
     },
     "execution_count": 79,
     "metadata": {},
     "output_type": "execute_result"
    }
   ],
   "source": [
    "import nltk\n",
    "\n",
    "reuters_words = reuters.words(categories='coffee')\n",
    "fdist = nltk.FreqDist(w.lower() for w in reuters_words)\n",
    "\n",
    "fdist.most_common(10)"
   ]
  }
 ],
 "metadata": {
  "kernelspec": {
   "display_name": "Python 3",
   "language": "python",
   "name": "python3"
  },
  "language_info": {
   "codemirror_mode": {
    "name": "ipython",
    "version": 3
   },
   "file_extension": ".py",
   "mimetype": "text/x-python",
   "name": "python",
   "nbconvert_exporter": "python",
   "pygments_lexer": "ipython3",
   "version": "3.6.5"
  },
  "toc": {
   "base_numbering": 1,
   "nav_menu": {},
   "number_sections": true,
   "sideBar": true,
   "skip_h1_title": false,
   "title_cell": "Table of Contents",
   "title_sidebar": "Contents",
   "toc_cell": false,
   "toc_position": {},
   "toc_section_display": true,
   "toc_window_display": false
  }
 },
 "nbformat": 4,
 "nbformat_minor": 2
}

{
 "cells": [
  {
   "cell_type": "markdown",
   "metadata": {},
   "source": [
    "# 문서 분류\n",
    "\n",
    "자연어 처리에서 분류(classification) 문제는 자주 대두되고 있다. 두가지 분류유형에 대해서 집중하는데 하나는 내용 기반 분류(Content-based classification), 다른 하나는 요청기반 분류(Request-based classification)으로 나눠진다. 내용기반 분류는 특정 주제 혹은 내용이 예를 들어 30%이상이면 특정 문서유형으로 분류되는 것인 반면, 요청기반 분류는 특정 정책이나 아이디어에 기반하여 분류되는 것이다.\n",
    "\n",
    "<img src=\"fig/document_classification.png\" alt=\"문서분류\" width=\"100%\" />\n",
    "\n",
    "## 자동화된 텍스트 분류 작업 흐름\n",
    "\n",
    "자동화된 텍스트 분류 시스템을 개발할 경우 텍스트 데이터를 훈련/시험 데이터셋으로 나누는 것부터 시작하여 텍스트 정제작업을 한 후에 텍스트 피처를 추출하고 다양한 분류 모형에 넣어 예측 모형을 개발한다. 그리고 나서 초모수(hyper parameter) 튜닝 작업을 거쳐 최종 텍스트 분류 모형을 제작한 후에 이를 배포하는 과정을 거쳐 실제 현업 업무에 적용시키게 된다.\n",
    "\n",
    "1. 훈련/시험 텍스트 데이터 준비\n",
    "1. 텍스트 정규화(Text normalization)\n",
    "1. 피처 추출(Feature extraction)\n",
    "1. 모형 훈련(Model training)\n",
    "1. 모형 예측과 평가(Model prediction and evaluation)\n",
    "1. 모형 배포(Model deployment)\n",
    "\n",
    "<img src=\"fig/nlp-automated-text-classification.png\" alt=\"자동화된 문서 분류\" width=\"100%\" />\n",
    "\n",
    "## 참고 문헌\n",
    "\n",
    "- Dipanjan Sarkar (2016), Text Analytics with Python: https://github.com/dipanjanS/text-analytics-with-python\n",
    "- Dipanjan Sarkar (2019), Text Analytics with Python,2nd Edition: https://github.com/Apress/text-analytics-w-python-2e"
   ]
  },
  {
   "cell_type": "markdown",
   "metadata": {},
   "source": [
    "# 예측모형 개요"
   ]
  },
  {
   "cell_type": "code",
   "execution_count": null,
   "metadata": {
    "collapsed": true
   },
   "outputs": [],
   "source": []
  }
 ],
 "metadata": {
  "kernelspec": {
   "display_name": "Python 3",
   "language": "python",
   "name": "python3"
  },
  "language_info": {
   "codemirror_mode": {
    "name": "ipython",
    "version": 3
   },
   "file_extension": ".py",
   "mimetype": "text/x-python",
   "name": "python",
   "nbconvert_exporter": "python",
   "pygments_lexer": "ipython3",
   "version": "3.6.7"
  },
  "toc": {
   "base_numbering": 1,
   "nav_menu": {},
   "number_sections": true,
   "sideBar": true,
   "skip_h1_title": false,
   "title_cell": "Table of Contents",
   "title_sidebar": "Contents",
   "toc_cell": false,
   "toc_position": {},
   "toc_section_display": true,
   "toc_window_display": false
  }
 },
 "nbformat": 4,
 "nbformat_minor": 2
}

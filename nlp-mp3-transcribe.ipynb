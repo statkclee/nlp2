{
 "cells": [
  {
   "cell_type": "markdown",
   "metadata": {},
   "source": [
    "# `.mp3` 음원에서 가사\n",
    "\n",
    "가수 노래를 담고 있는 음원에서 가사를 추출하여 보자."
   ]
  },
  {
   "cell_type": "code",
   "execution_count": 3,
   "metadata": {
    "scrolled": true
   },
   "outputs": [
    {
     "ename": "ImportError",
     "evalue": "No module named 'eyed3'",
     "output_type": "error",
     "traceback": [
      "\u001b[0;31m---------------------------------------------------------------------------\u001b[0m",
      "\u001b[0;31mImportError\u001b[0m                               Traceback (most recent call last)",
      "\u001b[0;32m<ipython-input-3-2910ac6cbcdf>\u001b[0m in \u001b[0;36m<module>\u001b[0;34m\u001b[0m\n\u001b[0;32m----> 1\u001b[0;31m \u001b[0;32mimport\u001b[0m \u001b[0meyed3\u001b[0m\u001b[0;34m\u001b[0m\u001b[0m\n\u001b[0m\u001b[1;32m      2\u001b[0m \u001b[0;34m\u001b[0m\u001b[0m\n\u001b[1;32m      3\u001b[0m \u001b[0maudiofile\u001b[0m \u001b[0;34m=\u001b[0m \u001b[0meyed3\u001b[0m\u001b[0;34m.\u001b[0m\u001b[0mload\u001b[0m\u001b[0;34m(\u001b[0m\u001b[0;34m\"data/audio/*.mp3\"\u001b[0m\u001b[0;34m)\u001b[0m\u001b[0;34m\u001b[0m\u001b[0m\n\u001b[1;32m      4\u001b[0m \u001b[0maudiofile\u001b[0m\u001b[0;34m.\u001b[0m\u001b[0mtag\u001b[0m\u001b[0;34m.\u001b[0m\u001b[0martist\u001b[0m \u001b[0;34m=\u001b[0m \u001b[0;34mu\"Integrity\"\u001b[0m\u001b[0;34m\u001b[0m\u001b[0m\n\u001b[1;32m      5\u001b[0m \u001b[0maudiofile\u001b[0m\u001b[0;34m.\u001b[0m\u001b[0mtag\u001b[0m\u001b[0;34m.\u001b[0m\u001b[0malbum\u001b[0m \u001b[0;34m=\u001b[0m \u001b[0;34mu\"Humanity Is The Devil\"\u001b[0m\u001b[0;34m\u001b[0m\u001b[0m\n",
      "\u001b[0;31mImportError\u001b[0m: No module named 'eyed3'"
     ]
    }
   ],
   "source": [
    "import eyed3\n",
    "\n",
    "audiofile = eyed3.load(\"data/audio/*.mp3\")\n",
    "audiofile.tag.artist = u\"Integrity\"\n",
    "audiofile.tag.album = u\"Humanity Is The Devil\"\n",
    "audiofile.tag.album_artist = u\"Integrity\"\n",
    "audiofile.tag.title = u\"Hollow\"\n",
    "audiofile.tag.track_num = 2\n",
    "\n",
    "audiofile.tag.save()"
   ]
  },
  {
   "cell_type": "code",
   "execution_count": 2,
   "metadata": {},
   "outputs": [
    {
     "name": "stdout",
     "output_type": "stream",
     "text": [
      "\u001b[33mDEPRECATION: Python 2.7 will reach the end of its life on January 1st, 2020. Please upgrade your Python as Python 2.7 won't be maintained after that date. A future version of pip will drop support for Python 2.7.\u001b[0m\n",
      "Requirement already satisfied: eyed3 in /usr/local/lib/python2.7/site-packages (0.8.10)\n",
      "Requirement already satisfied: six in /usr/local/lib/python2.7/site-packages (from eyed3) (1.12.0)\n",
      "Requirement already satisfied: pathlib; python_version < \"3.4\" in /usr/local/lib/python2.7/site-packages (from eyed3) (1.0.1)\n",
      "Requirement already satisfied: python-magic in /usr/local/lib/python2.7/site-packages (from eyed3) (0.4.15)\n"
     ]
    }
   ],
   "source": [
    "!pip install eyed3"
   ]
  }
 ],
 "metadata": {
  "kernelspec": {
   "display_name": "Python 3",
   "language": "python",
   "name": "python3"
  },
  "language_info": {
   "codemirror_mode": {
    "name": "ipython",
    "version": 3
   },
   "file_extension": ".py",
   "mimetype": "text/x-python",
   "name": "python",
   "nbconvert_exporter": "python",
   "pygments_lexer": "ipython3",
   "version": "3.5.4"
  }
 },
 "nbformat": 4,
 "nbformat_minor": 2
}

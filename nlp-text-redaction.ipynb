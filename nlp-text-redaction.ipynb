{
 "cells": [
  {
   "cell_type": "markdown",
   "metadata": {},
   "source": [
    "# 텍스트 삭제(text redaction)"
   ]
  },
  {
   "cell_type": "markdown",
   "metadata": {},
   "source": [
    "# 정규표현식 활용\n",
    "\n",
    "정규표현식(regular expression)을 사용해서 민감정보를 삭제해보자.\n",
    "\n",
    "1. 민감정보가 담긴 텍스트를 문자열로 준비한다.\n",
    "1. 전화번호 패턴을 탐지하기 위해서 휴대폰 전화번호와 유선 전화번호 패턴을 정규표현식으로 준비한다.\n",
    "1. `re.sub` 메쏘드를 사용해서 전화번호 패턴을 제거한다.\n",
    "1. 전자우편 패턴을 정규표현식으로 준비한다.\n",
    "1. `re.sub` 메쏘드를 사용해서 전자우편 패턴을 제거한다."
   ]
  },
  {
   "cell_type": "code",
   "execution_count": 4,
   "metadata": {},
   "outputs": [
    {
     "name": "stdout",
     "output_type": "stream",
     "text": [
      "\n",
      "경찰의 내사를 받고 있는 성호군은 한OO 일보와 조0일보를 잠시 착각한 것으로 밝혀졌으며 이 와중에 전화번호 XXX-XXXX-XXXX 가 외부로 유출되어 핸드폰 번호를 바꾸었으나 이 과정에서 집전화번호 XXX-XXXX-XXXX 도 유출되어 더이상 전화를 사용할 수 없는 자연인으로 돌아갔습니다. 이제 본인 전자우편 sungho@gmail.com도 당연히 외부에 절대 유출되지 않도록 국민신문고에 민원을 넣었습니다.\"\n",
      "\n"
     ]
    }
   ],
   "source": [
    "import re\n",
    "\n",
    "pledge_message = '''\n",
    "경찰의 내사를 받고 있는 성호군은 한OO 일보와 조0일보를 잠시 착각한 것으로 밝혀졌으며 \\\n",
    "이 와중에 전화번호 010-2345-2212 가 외부로 유출되어 핸드폰 번호를 바꾸었으나 이 과정에서 \\\n",
    "집전화번호 031-222-3234 도 유출되어 더이상 전화를 사용할 수 없는 자연인으로 돌아갔습니다. \\\n",
    "이제 본인 전자우편 sungho@gmail.com도 당연히 외부에 절대 유출되지 않도록 국민신문고에 민원을 넣었습니다.\"\n",
    "'''\n",
    "\n",
    "## 전화번호 민감정보 삭제\n",
    "mobile_phone = \"\\d{3}-\\d{3,4}-\\d{4}\"\n",
    "regular_phone = \"\\d{2,3}-\\d{3,4}-\\d{4}\"\n",
    "\n",
    "phone_pattern = re.compile(mobile_phone + \"|\" + regular_phone)\n",
    "\n",
    "phone_message = re.sub(phone_pattern, \"XXX-XXXX-XXXX\", pledge_message)  \n",
    "\n",
    "print(phone_message)"
   ]
  },
  {
   "cell_type": "code",
   "execution_count": 7,
   "metadata": {
    "scrolled": true
   },
   "outputs": [
    {
     "name": "stdout",
     "output_type": "stream",
     "text": [
      "\n",
      "경찰의 내사를 받고 있는 성호군은 한OO 일보와 조0일보를 잠시 착각한 것으로 밝혀졌으며 이 와중에 전화번호 XXX-XXXX-XXXX 가 외부로 유출되어 핸드폰 번호를 바꾸었으나 이 과정에서 집전화번호 XXX-XXXX-XXXX 도 유출되어 더이상 전화를 사용할 수 없는 자연인으로 돌아갔습니다. 이제 본인 전자우편 xxx@yyy.zzz도 당연히 외부에 절대 유출되지 않도록 국민신문고에 민원을 넣었습니다.\"\n",
      "\n"
     ]
    }
   ],
   "source": [
    "## 전자우편 민감정보 삭제\n",
    "\n",
    "email_pattern = \"(\\w+\\.)*\\w+@(\\w+\\.)+[A-Za-z]+\"\n",
    "\n",
    "redacted_message = re.sub(email_pattern, \"xxx@yyy.zzz\", phone_message)  \n",
    "\n",
    "print(redacted_message)"
   ]
  },
  {
   "cell_type": "markdown",
   "metadata": {},
   "source": [
    "# spaCy 개체명 인식\n",
    "\n",
    "문서에 포함된 민감정보를 제거하는 것이 필요한 경우가 많다. 이런 요구를 충족시키기 위해서 개인정보와 관련된 경우에 따라서 다른 연관된 정보를 식별하고 이를 제거하는 방법을 `spaCy` NER(named entity recognition) 기법을 활용하여 적용해 보자.\n",
    "\n",
    "<img src=\"fig/nlp_image_redacted.jpg\" alt=\"텍스트 민감정보 제거\" width=\"50%\" />\n",
    "\n",
    "- [NLP with SpaCy - Automatic Redaction/Sanitization of Documents Using SpaCy](https://github.com/Jcharis/Natural-Language-Processing-Tutorials/blob/master/NLP_with_SpaCy/Automatic%20Redaction%20%20&%20Sanitization%20of%20Document%20Using%20Spacy%20NER.ipynb)"
   ]
  },
  {
   "cell_type": "markdown",
   "metadata": {},
   "source": [
    "## 개체명 추출\n",
    "\n",
    "`spacy`를 활용하여 영문을 대상으로 개체명을 추출해본다.\n"
   ]
  },
  {
   "cell_type": "code",
   "execution_count": 27,
   "metadata": {
    "scrolled": true
   },
   "outputs": [
    {
     "name": "stdout",
     "output_type": "stream",
     "text": [
      "텍스트: European, \t 개체 그룹: NORP\n",
      "텍스트: Google, \t 개체 그룹: ORG\n",
      "텍스트: $5.1 billion, \t 개체 그룹: MONEY\n",
      "텍스트: Wednesday, \t 개체 그룹: DATE\n"
     ]
    }
   ],
   "source": [
    "import spacy\n",
    "\n",
    "nlp = spacy.load('en')\n",
    "\n",
    "ex_text = '''European authorities fined Google a record $5.1 billion on Wednesday \\\n",
    "for abusing its power in the mobile phone market and ordered the company to alter its practices'''\n",
    "\n",
    "ex_text_doc = nlp(ex_text)\n",
    "\n",
    "for ent in ex_text_doc.ents:\n",
    "    print(f'텍스트: {ent.text}, \\t 개체 그룹: {ent.label_}')"
   ]
  },
  {
   "cell_type": "markdown",
   "metadata": {},
   "source": [
    "`spacy.explain()` 메쏘드를 사용하게 되면 개체 그룹인지를 확인도 할 수 있다. \n",
    "예를 들어, `spacy.explain('NORP')`을 통해 'Nationalities or religious or political groups'임을 확인할 수 있다."
   ]
  },
  {
   "cell_type": "code",
   "execution_count": 28,
   "metadata": {},
   "outputs": [
    {
     "data": {
      "text/plain": [
       "'Nationalities or religious or political groups'"
      ]
     },
     "execution_count": 28,
     "metadata": {},
     "output_type": "execute_result"
    }
   ],
   "source": [
    "spacy.explain('NORP')"
   ]
  },
  {
   "cell_type": "markdown",
   "metadata": {},
   "source": [
    "## 민감정보 삭제 함수\n",
    "\n",
    "앞서 추출된 정보를 바탕으로 특정된 개체 유형(NORP, ORG, MONEY, DATE 등)에 따라 민감정보를 삭제하는 함수를 제작하여 적용시켜본다."
   ]
  },
  {
   "cell_type": "code",
   "execution_count": 31,
   "metadata": {},
   "outputs": [
    {
     "data": {
      "text/plain": [
       "'European authorities fined [REDACTED]a record $5.1 billion on Wednesday for abusing its power in the mobile phone market and ordered the company to alter its practices'"
      ]
     },
     "execution_count": 31,
     "metadata": {},
     "output_type": "execute_result"
    }
   ],
   "source": [
    "def redact_text(text, ent_type):\n",
    "    \n",
    "    docx = nlp(text)\n",
    "    \n",
    "    redacted_sentences = []\n",
    "\n",
    "    for token in docx:\n",
    "        if token.ent_type_ == ent_type:\n",
    "            redacted_sentences.append(\"[REDACTED]\")\n",
    "        else:\n",
    "            redacted_sentences.append(token.string)\n",
    "    \n",
    "    return \"\".join(redacted_sentences)\n",
    "\n",
    "redact_text(ex_text, 'ORG')"
   ]
  },
  {
   "cell_type": "markdown",
   "metadata": {},
   "source": [
    "## 시각화\n",
    "\n",
    "다른 것들 다 떠나서 이를 시각화하여 제대로 민감정보가 삭제되었는지 확인해보자. 시각적으로 문장에서 어떤 단어가 어떠한 개체유형인지를 확인할 수 있다."
   ]
  },
  {
   "cell_type": "code",
   "execution_count": 33,
   "metadata": {
    "scrolled": false
   },
   "outputs": [
    {
     "data": {
      "text/html": [
       "<div class=\"entities\" style=\"line-height: 2.5; direction: ltr\">\n",
       "<mark class=\"entity\" style=\"background: #c887fb; padding: 0.45em 0.6em; margin: 0 0.25em; line-height: 1; border-radius: 0.35em; box-decoration-break: clone; -webkit-box-decoration-break: clone\">\n",
       "    European\n",
       "    <span style=\"font-size: 0.8em; font-weight: bold; line-height: 1; border-radius: 0.35em; text-transform: uppercase; vertical-align: middle; margin-left: 0.5rem\">NORP</span>\n",
       "</mark>\n",
       " authorities fined \n",
       "<mark class=\"entity\" style=\"background: #7aecec; padding: 0.45em 0.6em; margin: 0 0.25em; line-height: 1; border-radius: 0.35em; box-decoration-break: clone; -webkit-box-decoration-break: clone\">\n",
       "    Google\n",
       "    <span style=\"font-size: 0.8em; font-weight: bold; line-height: 1; border-radius: 0.35em; text-transform: uppercase; vertical-align: middle; margin-left: 0.5rem\">ORG</span>\n",
       "</mark>\n",
       " a record \n",
       "<mark class=\"entity\" style=\"background: #e4e7d2; padding: 0.45em 0.6em; margin: 0 0.25em; line-height: 1; border-radius: 0.35em; box-decoration-break: clone; -webkit-box-decoration-break: clone\">\n",
       "    $5.1 billion\n",
       "    <span style=\"font-size: 0.8em; font-weight: bold; line-height: 1; border-radius: 0.35em; text-transform: uppercase; vertical-align: middle; margin-left: 0.5rem\">MONEY</span>\n",
       "</mark>\n",
       " on \n",
       "<mark class=\"entity\" style=\"background: #bfe1d9; padding: 0.45em 0.6em; margin: 0 0.25em; line-height: 1; border-radius: 0.35em; box-decoration-break: clone; -webkit-box-decoration-break: clone\">\n",
       "    Wednesday\n",
       "    <span style=\"font-size: 0.8em; font-weight: bold; line-height: 1; border-radius: 0.35em; text-transform: uppercase; vertical-align: middle; margin-left: 0.5rem\">DATE</span>\n",
       "</mark>\n",
       " for abusing its power in the mobile phone market and ordered the company to alter its practices</div>"
      ],
      "text/plain": [
       "<IPython.core.display.HTML object>"
      ]
     },
     "metadata": {},
     "output_type": "display_data"
    }
   ],
   "source": [
    "from spacy import displacy\n",
    "\n",
    "displacy.render(nlp(ex_text), style='ent', jupyter=True)"
   ]
  },
  {
   "cell_type": "code",
   "execution_count": 34,
   "metadata": {},
   "outputs": [
    {
     "data": {
      "text/html": [
       "<div class=\"entities\" style=\"line-height: 2.5; direction: ltr\">[REDACTED]authorities fined \n",
       "<mark class=\"entity\" style=\"background: #7aecec; padding: 0.45em 0.6em; margin: 0 0.25em; line-height: 1; border-radius: 0.35em; box-decoration-break: clone; -webkit-box-decoration-break: clone\">\n",
       "    Google\n",
       "    <span style=\"font-size: 0.8em; font-weight: bold; line-height: 1; border-radius: 0.35em; text-transform: uppercase; vertical-align: middle; margin-left: 0.5rem\">ORG</span>\n",
       "</mark>\n",
       " a record \n",
       "<mark class=\"entity\" style=\"background: #e4e7d2; padding: 0.45em 0.6em; margin: 0 0.25em; line-height: 1; border-radius: 0.35em; box-decoration-break: clone; -webkit-box-decoration-break: clone\">\n",
       "    $5.1 billion\n",
       "    <span style=\"font-size: 0.8em; font-weight: bold; line-height: 1; border-radius: 0.35em; text-transform: uppercase; vertical-align: middle; margin-left: 0.5rem\">MONEY</span>\n",
       "</mark>\n",
       " on \n",
       "<mark class=\"entity\" style=\"background: #bfe1d9; padding: 0.45em 0.6em; margin: 0 0.25em; line-height: 1; border-radius: 0.35em; box-decoration-break: clone; -webkit-box-decoration-break: clone\">\n",
       "    Wednesday\n",
       "    <span style=\"font-size: 0.8em; font-weight: bold; line-height: 1; border-radius: 0.35em; text-transform: uppercase; vertical-align: middle; margin-left: 0.5rem\">DATE</span>\n",
       "</mark>\n",
       " for abusing its power in the mobile phone market and ordered the company to alter its practices</div>"
      ],
      "text/plain": [
       "<IPython.core.display.HTML object>"
      ]
     },
     "metadata": {},
     "output_type": "display_data"
    }
   ],
   "source": [
    "redacted_text = redact_text(ex_text, 'NORP')\n",
    "displacy.render(nlp(redacted_text), style='ent', jupyter=True)"
   ]
  }
 ],
 "metadata": {
  "kernelspec": {
   "display_name": "Python 3",
   "language": "python",
   "name": "python3"
  },
  "language_info": {
   "codemirror_mode": {
    "name": "ipython",
    "version": 3
   },
   "file_extension": ".py",
   "mimetype": "text/x-python",
   "name": "python",
   "nbconvert_exporter": "python",
   "pygments_lexer": "ipython3",
   "version": "3.6.7"
  },
  "toc": {
   "base_numbering": 1,
   "nav_menu": {},
   "number_sections": true,
   "sideBar": true,
   "skip_h1_title": false,
   "title_cell": "Table of Contents",
   "title_sidebar": "Contents",
   "toc_cell": false,
   "toc_position": {},
   "toc_section_display": true,
   "toc_window_display": false
  }
 },
 "nbformat": 4,
 "nbformat_minor": 2
}

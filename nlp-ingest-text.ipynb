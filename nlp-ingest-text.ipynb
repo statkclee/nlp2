{
 "cells": [
  {
   "cell_type": "markdown",
   "metadata": {},
   "source": [
    "# 전자우편 텍스트 &rarr; CSV \n",
    "\n",
    "\n",
    "전자우편 데이터가 아래와 같은 형식으로 쭉 연결되어 있다고 가정하다.\n",
    "이러한 전자우편 텍스트 데이터에서 정규표현식을 동원하여 텍스트 일부를 추출하여 데이터프레임 형태로 변형시켜보자.\n",
    "\n",
    "## 전자우편 데이터셋\n",
    "\n",
    "[\"Python for Everybody\"](https://www.py4e.com/) 교재에서 활용된 [파이썬 코드와 데이터가 공개된 웹사이트]((https://www.py4e.com/code3/))에서 전자우편 데이터(`mbox-short.txt`) 비정형 데이터를 대상으로 정형데이터로 변환시키는 코드를 작성한다."
   ]
  },
  {
   "cell_type": "code",
   "execution_count": 24,
   "metadata": {},
   "outputs": [],
   "source": [
    "# To: source@collab.sakaiproject.org\n",
    "# From: stephen.marquard@uct.ac.za\n",
    "# Subject: [sakai] svn commit: r39772 - content/branches/sakai_2-5-x/content-impl/impl/src/java/org/sakaiproject/content/impl\n",
    "# X-Content-Type-Outer-Envelope: text/plain; charset=UTF-8\n",
    "# X-Content-Type-Message-Body: text/plain; charset=UTF-8\n",
    "# Content-Type: text/plain; charset=UTF-8\n",
    "# X-DSPAM-Result: Innocent\n",
    "# X-DSPAM-Processed: Sat Jan  5 09:14:16 2008\n",
    "# X-DSPAM-Confidence: 0.8475\n",
    "# X-DSPAM-Probability: 0.0000"
   ]
  },
  {
   "cell_type": "markdown",
   "metadata": {},
   "source": [
    "## 전자우편 데이터 불러오기\n",
    "\n",
    "하드디스크에 저장된 'mbox-short.txt' 파일을 처리할 수 있도록 파이썬 언어로 메모리로 불러 읽어 들인다.\n",
    "결과는 `print()` 문을 통해서 확인할 수 있다."
   ]
  },
  {
   "cell_type": "code",
   "execution_count": 86,
   "metadata": {},
   "outputs": [
    {
     "name": "stdout",
     "output_type": "stream",
     "text": [
      "From stephen.marquard@uct.ac.za Sat Jan  5 09:14:16 2008\n",
      "Return-Path: <postmaster@collab.sakaiprojec\n"
     ]
    }
   ],
   "source": [
    "# 디렉토리 + 파일명\n",
    "working_directory = \"data/email/\"\n",
    "file_name = 'mbox-short.txt'\n",
    "file_path = working_directory + file_name\n",
    "\n",
    "# 파일 불러들이기\n",
    "file_handler = open(file_path, \"r\")\n",
    "email_data = file_handler.read() # 파일 내부 읽어들임\n",
    "\n",
    "print(email_data[:100])\n",
    "file_handler.close()"
   ]
  },
  {
   "cell_type": "markdown",
   "metadata": {},
   "source": [
    "## 비정형 데이터 &rarr; 정형데이터\n",
    "\n",
    "일반 텍스트 전자우편 문서에서 규칙을 찾아 데이터를 정제하는 작업을 수행한다.\n",
    "이를 위해서 정규표현식을 사용한다. 즉, 보낸사람(`To:`), 받는 사람(`From:`), 제목 `Subject:`,\n",
    "스팸처리시간(`X-DSPAM-Processed`), 스팸확신도(`X-DSPAM-Confidence`),\n",
    "스팸확률(`X-DSPAM-Probability`)을 우선 추출해낸다.\n",
    "\n",
    "- To: source@collab.sakaiproject.org\n",
    "- From: stephen.marquard@uct.ac.za\n",
    "- Subject: [sakai] svn commit: r39772 - content/branches/sakai_2-5-x/content-impl/impl/src/java/org/sakaiproject/content/impl\n",
    "- X-DSPAM-Processed: Sat Jan  5 09:14:16 2008\n",
    "- X-DSPAM-Confidence: 0.8475\n",
    "- X-DSPAM-Probability: 0.0000"
   ]
  },
  {
   "cell_type": "markdown",
   "metadata": {},
   "source": [
    "### 전자우편 한줄에서 전자우편주소만 추출\n",
    "\n",
    "가장 먼저 전자우편 주소에서 전자우편만 추출하는 간단한 코드를 작성해보자"
   ]
  },
  {
   "cell_type": "code",
   "execution_count": 40,
   "metadata": {},
   "outputs": [
    {
     "name": "stdout",
     "output_type": "stream",
     "text": [
      "['stephen.marquard@uct.ac.za']\n"
     ]
    }
   ],
   "source": [
    "import re\n",
    "\n",
    "text = 'From: stephen.marquard@uct.ac.za'\n",
    "field_regex = \"From:\\s(.+)\"\n",
    "\n",
    "matches = re.findall(field_regex, text)\n",
    "\n",
    "print(matches)"
   ]
  },
  {
   "cell_type": "markdown",
   "metadata": {},
   "source": [
    "### 전자우편 주소 및 스팸확률 추출\n",
    "\n",
    "전자우편 보낸사람(`From`), 전자우편 받은 사람(`To`)에서 전자우편 주소와 스팸확률(`X-DSPAM-Probability`) 추출해 보자."
   ]
  },
  {
   "cell_type": "code",
   "execution_count": 105,
   "metadata": {},
   "outputs": [
    {
     "name": "stdout",
     "output_type": "stream",
     "text": [
      "[('From', ' stephen.marquard@uct.ac.za'), ('To', ' source@collab.sakaiproject.org')]\n"
     ]
    }
   ],
   "source": [
    "import pandas as pd\n",
    "text = '''\n",
    "       From: stephen.marquard@uct.ac.za\n",
    "       To: source@collab.sakaiproject.org\n",
    "       X-DSPAM-Probability: 0.8475\n",
    "       '''\n",
    "# field_regex = \"\\w+:\\s(.+)\"\n",
    "field_regex = \"(From|To|X\\-DSPAM\\-Confidence):(.*)\"\n",
    "\n",
    "matches = re.findall(field_regex, text)\n",
    "print(matches)"
   ]
  },
  {
   "cell_type": "markdown",
   "metadata": {},
   "source": [
    "### 파일을 열어서 전자우편주소 추출\n",
    "\n",
    "가장 먼저 파일을 열어서 앞서 정의한 정규표현식을 활용하여 전자우편 보낸사람(`From`), 전자우편 받은 사람(`To`), 스팸확률(`X-DSPAM-Confidence`)을 필드로 추출해 보자"
   ]
  },
  {
   "cell_type": "code",
   "execution_count": 106,
   "metadata": {},
   "outputs": [
    {
     "name": "stdout",
     "output_type": "stream",
     "text": [
      "[('From', ' stephen.marquard@uct.ac.za'), ('X-DSPAM-Probability', ' 0.0000'), ('To', ' source@collab.sakaiproject.org'), ('From', ' louis@media.berkeley.edu'), ('X-DSPAM-Probability', ' 0.0000'), ('To', ' source@collab.sakaiproject.org'), ('From', ' zqian@umich.edu'), ('X-DSPAM-Probability', ' 0.0000'), ('To', ' source@collab.sakaiproject.org')]\n"
     ]
    }
   ],
   "source": [
    "# 파일 불러들이기\n",
    "file_handler = open(file_path, \"r\")\n",
    "\n",
    "# 정규표현식\n",
    "field_regex = \"(From|To|X\\-DSPAM\\-Probability):(.*)\"\n",
    "\n",
    "matches = []\n",
    "\n",
    "for line in file_handler:\n",
    "    matches += re.findall(field_regex, line)\n",
    "file_handler.close()\n",
    "\n",
    "print(matches[1:10])"
   ]
  },
  {
   "cell_type": "markdown",
   "metadata": {},
   "source": [
    "### 튜플 리스트 &rarr; 데이터프레임\n",
    "\n",
    "정규표현식을 사용해서 원하는 정보를 추출하는데 일단 성공했으면 다음으로 후속 데이터 분석을 위해서 데이터프레임 형태로 데이터를 가공하는 것이 편하다. 이를 위해서 튜플 리스트를 데이터르페임으로 변환시킨다."
   ]
  },
  {
   "cell_type": "code",
   "execution_count": 174,
   "metadata": {},
   "outputs": [
    {
     "data": {
      "text/html": [
       "<div>\n",
       "<style scoped>\n",
       "    .dataframe tbody tr th:only-of-type {\n",
       "        vertical-align: middle;\n",
       "    }\n",
       "\n",
       "    .dataframe tbody tr th {\n",
       "        vertical-align: top;\n",
       "    }\n",
       "\n",
       "    .dataframe thead th {\n",
       "        text-align: right;\n",
       "    }\n",
       "</style>\n",
       "<table border=\"1\" class=\"dataframe\">\n",
       "  <thead>\n",
       "    <tr style=\"text-align: right;\">\n",
       "      <th></th>\n",
       "      <th>key</th>\n",
       "      <th>value</th>\n",
       "    </tr>\n",
       "  </thead>\n",
       "  <tbody>\n",
       "    <tr>\n",
       "      <th>0</th>\n",
       "      <td>To</td>\n",
       "      <td>source@collab.sakaiproject.org</td>\n",
       "    </tr>\n",
       "    <tr>\n",
       "      <th>1</th>\n",
       "      <td>From</td>\n",
       "      <td>stephen.marquard@uct.ac.za</td>\n",
       "    </tr>\n",
       "    <tr>\n",
       "      <th>2</th>\n",
       "      <td>X-DSPAM-Probability</td>\n",
       "      <td>0.0000</td>\n",
       "    </tr>\n",
       "    <tr>\n",
       "      <th>3</th>\n",
       "      <td>To</td>\n",
       "      <td>source@collab.sakaiproject.org</td>\n",
       "    </tr>\n",
       "    <tr>\n",
       "      <th>4</th>\n",
       "      <td>From</td>\n",
       "      <td>louis@media.berkeley.edu</td>\n",
       "    </tr>\n",
       "    <tr>\n",
       "      <th>5</th>\n",
       "      <td>X-DSPAM-Probability</td>\n",
       "      <td>0.0000</td>\n",
       "    </tr>\n",
       "    <tr>\n",
       "      <th>6</th>\n",
       "      <td>To</td>\n",
       "      <td>source@collab.sakaiproject.org</td>\n",
       "    </tr>\n",
       "    <tr>\n",
       "      <th>7</th>\n",
       "      <td>From</td>\n",
       "      <td>zqian@umich.edu</td>\n",
       "    </tr>\n",
       "    <tr>\n",
       "      <th>8</th>\n",
       "      <td>X-DSPAM-Probability</td>\n",
       "      <td>0.0000</td>\n",
       "    </tr>\n",
       "  </tbody>\n",
       "</table>\n",
       "</div>"
      ],
      "text/plain": [
       "                   key                            value\n",
       "0                   To   source@collab.sakaiproject.org\n",
       "1                 From       stephen.marquard@uct.ac.za\n",
       "2  X-DSPAM-Probability                           0.0000\n",
       "3                   To   source@collab.sakaiproject.org\n",
       "4                 From         louis@media.berkeley.edu\n",
       "5  X-DSPAM-Probability                           0.0000\n",
       "6                   To   source@collab.sakaiproject.org\n",
       "7                 From                  zqian@umich.edu\n",
       "8  X-DSPAM-Probability                           0.0000"
      ]
     },
     "execution_count": 174,
     "metadata": {},
     "output_type": "execute_result"
    }
   ],
   "source": [
    "df = pd.DataFrame(matches, columns =['key', 'value']) \n",
    "\n",
    "#                    key                            value\n",
    "# 0                   To   source@collab.sakaiproject.org\n",
    "# 1                 From       stephen.marquard@uct.ac.za\n",
    "# 2  X-DSPAM-Probability                           0.0000\n",
    "# 3                   To   source@collab.sakaiproject.org\n",
    "# 4                 From         louis@media.berkeley.edu\n",
    "df.head(9)"
   ]
  },
  {
   "cell_type": "markdown",
   "metadata": {},
   "source": [
    "# 참고 코드\n",
    "\n",
    "- [stackoverflow, \"Python: Multiple Text Files to Dataframe\"](https://stackoverflow.com/questions/44335814/python-multiple-text-files-to-dataframe)\n",
    "\n",
    "텍스트로 작성된 전자우편 내용에서 필요한 필드만 추출하여 데이터프레임 형태 데이터로 변환시키는 프로젝트를 진행하고 있다."
   ]
  },
  {
   "cell_type": "code",
   "execution_count": 175,
   "metadata": {},
   "outputs": [
    {
     "name": "stdout",
     "output_type": "stream",
     "text": [
      "Processing File: .DS_Store\n",
      "Processing File: mbox-short.txt\n",
      "Processing File: email_sample.txt\n",
      "Processing File: email_sample.csv\n",
      "Successfully read 2 files.\n"
     ]
    }
   ],
   "source": [
    "import os\n",
    "import sys\n",
    "import re\n",
    "import csv \n",
    "\n",
    "# Take all text files in workingDirectory and put them into a DF.\n",
    "def convert_email(working_directory, output_directory):\n",
    "    with open(working_directory +'email_sample.csv', 'w') as csvfile:\n",
    "      fields = ['Target','Attribute','Label','Time','Full Text'] # fields you're searching for with regex\n",
    "      csvfield = ['Target','Attribute','Label','Time','Full Text','Filename'] # You want to include the file name in the csv header but not find it with regex\n",
    "      writer = csv.DictWriter(csvfile, delimiter=',', lineterminator='\\n', fieldnames=fields)\n",
    "      writer.writeheader() # writes the csvfields list to the header of the csv\n",
    "\n",
    "      if working_directory == \"\": working_directory = os.getcwd() + \"\\\\\" # Returns current working directory, if workingDirectory is empty.\n",
    "      i = 0\n",
    "      for txt in os.listdir(working_directory): # Iterate through text filess in workingDirectory\n",
    "          print(\"Processing File: \" + str(txt))\n",
    "          fileExtension = txt.split(\".\")[-1]\n",
    "          if fileExtension == \"txt\":\n",
    "              textFilename = working_directory + txt # Becomes: \\PATH\\example.text\n",
    "              f = open(textFilename,\"r\")\n",
    "              data = f.read() # read what is inside\n",
    "\n",
    "              #print(data) # print to show it is readable\n",
    "              fieldmatches = {}\n",
    "              for field in fields:\n",
    "                regex = \"\\\\s\" + field + \":(.*)\" # iterates through each of the fields and matches using r\"\\sTarget:(.*) that selects everything on the line that matches with Target:\n",
    "                match = re.search(regex, data)\n",
    "                if match:\n",
    "                  fieldmatches[field] = match.group(1)\n",
    "              writer.writerow(fieldmatches) # for each file creates a dict of fields and their values and then adds that row to the csv\n",
    "              i += 1 # counter\n",
    "      print(\"Successfully read \" + str(i) + \" files.\")\n",
    "\n",
    "\n",
    "working_directory = \"data/email/\" # Put your source directory of text files here\n",
    "output_directory  = \"data/email/\" # Put your source directory of text files here\n",
    "\n",
    "convert_email(working_directory, output_directory)"
   ]
  }
 ],
 "metadata": {
  "kernelspec": {
   "display_name": "Python 3",
   "language": "python",
   "name": "python3"
  },
  "language_info": {
   "codemirror_mode": {
    "name": "ipython",
    "version": 3
   },
   "file_extension": ".py",
   "mimetype": "text/x-python",
   "name": "python",
   "nbconvert_exporter": "python",
   "pygments_lexer": "ipython3",
   "version": "3.6.5"
  },
  "toc": {
   "base_numbering": 1,
   "nav_menu": {},
   "number_sections": true,
   "sideBar": true,
   "skip_h1_title": false,
   "title_cell": "Table of Contents",
   "title_sidebar": "Contents",
   "toc_cell": false,
   "toc_position": {},
   "toc_section_display": true,
   "toc_window_display": false
  }
 },
 "nbformat": 4,
 "nbformat_minor": 2
}

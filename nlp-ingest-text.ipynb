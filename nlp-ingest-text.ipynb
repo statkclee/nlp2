{
 "cells": [
  {
   "cell_type": "markdown",
   "metadata": {},
   "source": [
    "# 전자우편 텍스트 &rarr; CSV\n",
    "\n",
    "- [stackoverflow, \"Python: Multiple Text Files to Dataframe\"](https://stackoverflow.com/questions/44335814/python-multiple-text-files-to-dataframe)\n",
    "\n",
    "텍스트로 작성된 전자우편 내용에서 필요한 필드만 추출하여 데이터프레임 형태 데이터로 변환시키는 프로젝트를 진행하고 있다.\n",
    "\n",
    "작업디렉토리(working_directory)\n"
   ]
  },
  {
   "cell_type": "code",
   "execution_count": 9,
   "metadata": {},
   "outputs": [
    {
     "name": "stdout",
     "output_type": "stream",
     "text": [
      "Processing File: .DS_Store\n",
      "Processing File: email_sample.txt\n",
      "Processing File: email_sample.csv\n",
      "Successfully read 1 files.\n"
     ]
    }
   ],
   "source": [
    "import os\n",
    "import sys\n",
    "import re\n",
    "import csv \n",
    "\n",
    "# Take all text files in workingDirectory and put them into a DF.\n",
    "def convert_email(working_directory, output_directory):\n",
    "    with open(working_directory +'email_sample.csv', 'w') as csvfile:\n",
    "      fields = ['Target','Attribute','Label','Time','Full Text'] # fields you're searching for with regex\n",
    "      csvfield = ['Target','Attribute','Label','Time','Full Text','Filename'] # You want to include the file name in the csv header but not find it with regex\n",
    "      writer = csv.DictWriter(csvfile, delimiter=',', lineterminator='\\n', fieldnames=fields)\n",
    "      writer.writeheader() # writes the csvfields list to the header of the csv\n",
    "\n",
    "      if working_directory == \"\": working_directory = os.getcwd() + \"\\\\\" # Returns current working directory, if workingDirectory is empty.\n",
    "      i = 0\n",
    "      for txt in os.listdir(working_directory): # Iterate through text filess in workingDirectory\n",
    "          print(\"Processing File: \" + str(txt))\n",
    "          fileExtension = txt.split(\".\")[-1]\n",
    "          if fileExtension == \"txt\":\n",
    "              textFilename = working_directory + txt # Becomes: \\PATH\\example.text\n",
    "              f = open(textFilename,\"r\")\n",
    "              data = f.read() # read what is inside\n",
    "\n",
    "              #print(data) # print to show it is readable\n",
    "              fieldmatches = {}\n",
    "              for field in fields:\n",
    "                regex = \"\\\\s\" + field + \":(.*)\" # iterates through each of the fields and matches using r\"\\sTarget:(.*) that selects everything on the line that matches with Target:\n",
    "                match = re.search(regex, data)\n",
    "                if match:\n",
    "                  fieldmatches[field] = match.group(1)\n",
    "              writer.writerow(fieldmatches) # for each file creates a dict of fields and their values and then adds that row to the csv\n",
    "              i += 1 # counter\n",
    "      print(\"Successfully read \" + str(i) + \" files.\")\n",
    "\n",
    "\n",
    "working_directory = \"data/email/\" # Put your source directory of text files here\n",
    "output_directory  = \"data/email/\" # Put your source directory of text files here\n",
    "\n",
    "convert_email(working_directory, output_directory)\n",
    "\n"
   ]
  },
  {
   "cell_type": "markdown",
   "metadata": {},
   "source": [
    "# 전자우편 \n",
    "\n",
    "\n",
    "전자우편 데이터가 아래와 같은 형식으로 쭉 연결되어 있다고 가정하다.\n",
    "이러한 전자우편 텍스트 데이터에서 정규표현식을 동원하여 텍스트 일부를 추출하여 데이터프레임 형태로 변형시켜보자.\n",
    "\n",
    "## 전자우편 데이터셋"
   ]
  },
  {
   "cell_type": "code",
   "execution_count": 24,
   "metadata": {},
   "outputs": [],
   "source": [
    "# To: source@collab.sakaiproject.org\n",
    "# From: stephen.marquard@uct.ac.za\n",
    "# Subject: [sakai] svn commit: r39772 - content/branches/sakai_2-5-x/content-impl/impl/src/java/org/sakaiproject/content/impl\n",
    "# X-Content-Type-Outer-Envelope: text/plain; charset=UTF-8\n",
    "# X-Content-Type-Message-Body: text/plain; charset=UTF-8\n",
    "# Content-Type: text/plain; charset=UTF-8\n",
    "# X-DSPAM-Result: Innocent\n",
    "# X-DSPAM-Processed: Sat Jan  5 09:14:16 2008\n",
    "# X-DSPAM-Confidence: 0.8475\n",
    "# X-DSPAM-Probability: 0.0000"
   ]
  },
  {
   "cell_type": "markdown",
   "metadata": {},
   "source": [
    "## 전자우편 데이터 전처리"
   ]
  },
  {
   "cell_type": "markdown",
   "metadata": {},
   "source": [
    "working_directory = \"data/email/\"\n",
    "file_name = 'mbox-short.txt'\n",
    "\n",
    "file_path = working_directory + file_name\n",
    "\n",
    "email_dict = dict()\n",
    "\n",
    "file_handler = open(file_path)\n",
    "\n",
    "for line in file_handler:\n",
    "    if not line.startswith('From: '): continue\n",
    "    pieces = line.split() \n",
    "    email = pieces[1]\n",
    "    email_dict[email] = email_dict.get(email, 0) + 1\n",
    "\n",
    "print(email_dict)"
   ]
  }
 ],
 "metadata": {
  "kernelspec": {
   "display_name": "Python 3",
   "language": "python",
   "name": "python3"
  },
  "language_info": {
   "codemirror_mode": {
    "name": "ipython",
    "version": 3
   },
   "file_extension": ".py",
   "mimetype": "text/x-python",
   "name": "python",
   "nbconvert_exporter": "python",
   "pygments_lexer": "ipython3",
   "version": "3.6.5"
  },
  "toc": {
   "base_numbering": 1,
   "nav_menu": {},
   "number_sections": true,
   "sideBar": true,
   "skip_h1_title": false,
   "title_cell": "Table of Contents",
   "title_sidebar": "Contents",
   "toc_cell": false,
   "toc_position": {},
   "toc_section_display": true,
   "toc_window_display": false
  }
 },
 "nbformat": 4,
 "nbformat_minor": 2
}
